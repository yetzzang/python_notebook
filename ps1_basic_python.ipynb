{
 "cells": [
  {
   "cell_type": "markdown",
   "id": "b545ef84-fae1-4287-9c75-c1105a463452",
   "metadata": {},
   "source": [
    "# Problem Sets 1\n",
    "* Name: Yeji Kim \n",
    "* Student ID: 1863270\n",
    "* Collaborators: None"
   ]
  },
  {
   "cell_type": "markdown",
   "id": "7e635d56-f752-4759-8022-a748171b82b9",
   "metadata": {},
   "source": [
    "# 1. Base Python "
   ]
  },
  {
   "cell_type": "markdown",
   "id": "38e70d65-c1b1-4751-be0b-10f13b57e29f",
   "metadata": {},
   "source": [
    "### 1.1 Computing"
   ]
  },
  {
   "cell_type": "markdown",
   "id": "fd112387-b4bf-4b46-bf5f-bdaa7696f44f",
   "metadata": {},
   "source": [
    "1. (1pt) How many seconds are there in year?"
   ]
  },
  {
   "cell_type": "code",
   "execution_count": 1,
   "id": "0e134cb4-a4f5-4191-962c-acf1b811b4b6",
   "metadata": {},
   "outputs": [
    {
     "data": {
      "text/plain": [
       "31536000"
      ]
     },
     "execution_count": 1,
     "metadata": {},
     "output_type": "execute_result"
    }
   ],
   "source": [
    "60 * 60 * 24* 365"
   ]
  },
  {
   "cell_type": "markdown",
   "id": "4c1c9398-4bf8-4907-b943-f6b98d7ccefc",
   "metadata": {},
   "source": [
    "2. (1pt) How many seconds is a typical human lifetime? Use the previously computed seconds in year."
   ]
  },
  {
   "cell_type": "code",
   "execution_count": 2,
   "id": "b684dd5f-7454-4ebe-8332-c078374a41a9",
   "metadata": {},
   "outputs": [
    {
     "data": {
      "text/plain": [
       "2680560000"
      ]
     },
     "execution_count": 2,
     "metadata": {},
     "output_type": "execute_result"
    }
   ],
   "source": [
    "31536000 * 85"
   ]
  },
  {
   "cell_type": "markdown",
   "id": "9ed6c18a-dd24-48f4-a839-952eead482e3",
   "metadata": {},
   "source": [
    "Explanation: I used human life time as 85 years. "
   ]
  },
  {
   "cell_type": "markdown",
   "id": "886022a3-994c-414d-9c9d-bdaf5a360bf5",
   "metadata": {},
   "source": [
    "3. (1pt) What is your age in seconds?"
   ]
  },
  {
   "cell_type": "code",
   "execution_count": 3,
   "id": "33942936-e06b-4bd1-8d4f-52491b43c4bd",
   "metadata": {},
   "outputs": [
    {
     "data": {
      "text/plain": [
       "759492000.0"
      ]
     },
     "execution_count": 3,
     "metadata": {},
     "output_type": "execute_result"
    }
   ],
   "source": [
    "60 * 60 * 24* 365 * (24 + 1/12)"
   ]
  },
  {
   "cell_type": "markdown",
   "id": "71a1d7c8-372e-4a30-8fdb-c768e95b337e",
   "metadata": {},
   "source": [
    "Explanation: I was born in Dec.11.1998. So (24 + 1/12) is my current age."
   ]
  },
  {
   "cell_type": "markdown",
   "id": "165551e5-e2cf-4e84-ba8c-d17b570e212a",
   "metadata": {},
   "source": [
    "4. (1pt) Create a logical variable that is true if you are more than 700M seconds old. Use logical\n",
    "operators, not if/else!"
   ]
  },
  {
   "cell_type": "code",
   "execution_count": 4,
   "id": "3e487c1d-b72d-4ed2-88a5-b6601cb1abc0",
   "metadata": {},
   "outputs": [
    {
     "data": {
      "text/plain": [
       "True"
      ]
     },
     "execution_count": 4,
     "metadata": {},
     "output_type": "execute_result"
    }
   ],
   "source": [
    "age_in_sec = (60 * 60 * 24* 365 * (24 + 1/12)) > 700000000\n",
    "age_in_sec"
   ]
  },
  {
   "cell_type": "markdown",
   "id": "ce619f1b-b7c4-4b09-b054-2a453351588d",
   "metadata": {},
   "source": [
    "5. (3pt) Compute the following mathematical formulas:"
   ]
  },
  {
   "cell_type": "code",
   "execution_count": 5,
   "id": "d2b143b6-abe5-4ceb-aeac-33d1e570ddf9",
   "metadata": {},
   "outputs": [
    {
     "data": {
      "text/plain": [
       "0.24"
      ]
     },
     "execution_count": 5,
     "metadata": {},
     "output_type": "execute_result"
    }
   ],
   "source": [
    "0.4*(1-0.4)"
   ]
  },
  {
   "cell_type": "code",
   "execution_count": 6,
   "id": "7bd1a527-e9a0-4a4f-aae9-8e13428b4b40",
   "metadata": {},
   "outputs": [
    {
     "data": {
      "text/plain": [
       "0.058527663465935076"
      ]
     },
     "execution_count": 6,
     "metadata": {},
     "output_type": "execute_result"
    }
   ],
   "source": [
    "(3/2) * (1 + (2.5/2))**(-3-1)"
   ]
  },
  {
   "cell_type": "code",
   "execution_count": 7,
   "id": "f880f8e2-d0e9-4e6c-b216-d8b2ffadf756",
   "metadata": {},
   "outputs": [
    {
     "data": {
      "text/plain": [
       "3.0"
      ]
     },
     "execution_count": 7,
     "metadata": {},
     "output_type": "execute_result"
    }
   ],
   "source": [
    "(3 * (2**2)) / (((3-1)**2) * (3-2))"
   ]
  },
  {
   "cell_type": "markdown",
   "id": "01074e11-f12f-4dea-a620-230444bbbe40",
   "metadata": {},
   "source": [
    "### 1.2 Lists"
   ]
  },
  {
   "cell_type": "markdown",
   "id": "a0882e9f-0260-4a8b-9213-721dc31a5db9",
   "metadata": {},
   "source": [
    "1. (1pt) Create a list ‘movies‘ that contains the names of at least six movies you like"
   ]
  },
  {
   "cell_type": "code",
   "execution_count": 8,
   "id": "9c09eef6-fd0f-4dfe-8f38-00d0b70ececc",
   "metadata": {},
   "outputs": [
    {
     "data": {
      "text/plain": [
       "['About Times',\n",
       " 'Begin Again',\n",
       " 'Intern',\n",
       " 'Lala Land',\n",
       " 'The Devil Wears Prada',\n",
       " 'Mean Girls']"
      ]
     },
     "execution_count": 8,
     "metadata": {},
     "output_type": "execute_result"
    }
   ],
   "source": [
    "movies = [\"About Times\", \"Begin Again\", \"Intern\", \"Lala Land\", \"The Devil Wears Prada\", \"Mean Girls\"]\n",
    "movies"
   ]
  },
  {
   "cell_type": "markdown",
   "id": "592232e7-c1aa-4c99-9d2e-23dac4383a48",
   "metadata": {},
   "source": [
    "2. (2pt) Using indexing and slicing, Create a list of three first movies in the list"
   ]
  },
  {
   "cell_type": "code",
   "execution_count": 9,
   "id": "5e4addec-d8ab-4896-8cc9-24bb39fa9feb",
   "metadata": {},
   "outputs": [
    {
     "data": {
      "text/plain": [
       "['About Times', 'Begin Again', 'Intern']"
      ]
     },
     "execution_count": 9,
     "metadata": {},
     "output_type": "execute_result"
    }
   ],
   "source": [
    "first_three_movies = movies[:3]\n",
    "first_three_movies"
   ]
  },
  {
   "cell_type": "markdown",
   "id": "3dbc1582-0bcd-4608-8f9d-881184a4caff",
   "metadata": {},
   "source": [
    "3. (2pt) Use slicing and list concatenation to create a list of the first two and the last two movies"
   ]
  },
  {
   "cell_type": "code",
   "execution_count": 10,
   "id": "5d993125-b115-4fd7-8591-c40f46e16f3b",
   "metadata": {},
   "outputs": [
    {
     "data": {
      "text/plain": [
       "['About Times', 'Begin Again', 'The Devil Wears Prada', 'Mean Girls']"
      ]
     },
     "execution_count": 10,
     "metadata": {},
     "output_type": "execute_result"
    }
   ],
   "source": [
    "first_two_last_two_movies = movies[:2] + movies[-2:]\n",
    "first_two_last_two_movies"
   ]
  },
  {
   "cell_type": "markdown",
   "id": "fdc1e516-354f-4d08-a9fc-4cafb4863ebc",
   "metadata": {},
   "source": [
    "4. (3pt) Use slicing to list the movies in the opposite order"
   ]
  },
  {
   "cell_type": "code",
   "execution_count": 11,
   "id": "b683313f-9494-450e-af5a-c1b5a052faf8",
   "metadata": {},
   "outputs": [
    {
     "data": {
      "text/plain": [
       "['Mean Girls',\n",
       " 'The Devil Wears Prada',\n",
       " 'Lala Land',\n",
       " 'Intern',\n",
       " 'Begin Again',\n",
       " 'About Times']"
      ]
     },
     "execution_count": 11,
     "metadata": {},
     "output_type": "execute_result"
    }
   ],
   "source": [
    "movies[::-1]"
   ]
  },
  {
   "cell_type": "markdown",
   "id": "84a40db7-e1d6-48ae-b60d-bded798e0877",
   "metadata": {},
   "source": [
    "### 1.3 Loops"
   ]
  },
  {
   "cell_type": "markdown",
   "id": "33c0dde4-89f6-4fcf-bcf3-90bf6c57c882",
   "metadata": {},
   "source": [
    "1. (3pt) Create a list ‘numbers‘ that is the numbers 70 through 79 in the following manner: create an\n",
    "empty list and add numbers to it in a loop (do not use list comprehension or ‘list‘ function here!)\n",
    "Hint: Consult python notes, ch 2.4.1 Lists."
   ]
  },
  {
   "cell_type": "code",
   "execution_count": 12,
   "id": "df557ee1-ca6c-44ca-9430-acdc0c01c349",
   "metadata": {},
   "outputs": [
    {
     "data": {
      "text/plain": [
       "[70, 71, 72, 73, 74, 75, 76, 77, 78, 79]"
      ]
     },
     "execution_count": 12,
     "metadata": {},
     "output_type": "execute_result"
    }
   ],
   "source": [
    "numbers = []\n",
    "for i in range(70,80):\n",
    "    numbers.append(i)\n",
    "numbers   "
   ]
  },
  {
   "cell_type": "markdown",
   "id": "d41de770-dbde-4c8f-9aab-ff6b0a334763",
   "metadata": {},
   "source": [
    "2. (3pt) Use a loop to compute the mean value of the list: add the values to their sum in a loop, and\n",
    "at the end divide the sum by the number of the values. "
   ]
  },
  {
   "cell_type": "code",
   "execution_count": 13,
   "id": "1ccbd2d0-c33b-4e28-8e4d-6efddbf87883",
   "metadata": {},
   "outputs": [
    {
     "data": {
      "text/plain": [
       "74.5"
      ]
     },
     "execution_count": 13,
     "metadata": {},
     "output_type": "execute_result"
    }
   ],
   "source": [
    "sum = 0\n",
    "for i in numbers:\n",
    "    sum += i\n",
    "mean = sum / len(numbers)\n",
    "mean"
   ]
  },
  {
   "cell_type": "markdown",
   "id": "3f849886-4af7-499f-b77b-1e2a3100f57a",
   "metadata": {},
   "source": [
    "3. (3pt) Use loop to compute sum of all integers from 1 till 100."
   ]
  },
  {
   "cell_type": "code",
   "execution_count": 14,
   "id": "cb88b245-075a-494c-8ed6-69b3fa6411af",
   "metadata": {},
   "outputs": [
    {
     "data": {
      "text/plain": [
       "5050"
      ]
     },
     "execution_count": 14,
     "metadata": {},
     "output_type": "execute_result"
    }
   ],
   "source": [
    "sum = 0\n",
    "for i in range(1,101):\n",
    "    sum += i\n",
    "sum"
   ]
  },
  {
   "cell_type": "markdown",
   "id": "e407a693-0463-4f8b-ae25-f05e1b6700aa",
   "metadata": {},
   "source": [
    "4. (3pt) Assign people to seats. Consider names Adam, Ashin, Inukai, Tanaka, and Ikki; and seats 33,\n",
    "12, 45, 2 and 17. Print seat assignments by assigning each name to the corresponding seat."
   ]
  },
  {
   "cell_type": "code",
   "execution_count": 15,
   "id": "93e247d4-2719-4e82-9fed-dee9ee5d5337",
   "metadata": {},
   "outputs": [
    {
     "name": "stdout",
     "output_type": "stream",
     "text": [
      "Adam: 33\n",
      "Ashin: 12\n",
      "Inukai: 45\n",
      "Tanaka: 2\n",
      "Ikki: 17\n"
     ]
    }
   ],
   "source": [
    "names = [\"Adam\", \"Ashin\", \"Inukai\", \"Tanaka\", \"Ikki\"]\n",
    "seat = [33, 12, 45, 2, 17]\n",
    "for i in range(5):\n",
    "    print(names[i] + \": \" + str(seat[i]))"
   ]
  },
  {
   "cell_type": "markdown",
   "id": "77731cfc-56d6-45f3-b19e-db753006d17d",
   "metadata": {},
   "source": [
    "### 1.4 Dicts and Sets"
   ]
  },
  {
   "cell_type": "markdown",
   "id": "52cd63ef-6eb0-47ec-af99-c08afa7a2249",
   "metadata": {},
   "source": [
    "1. (10pt) Create a word frequency table using dicts that take a looong string (feel free to copy-paste\n",
    "some text here), splits it into individual words, and counts the number of occurrencies of each word\n",
    "(and prints the result). Let’s ignore punctuation. Your code should run over individual words and\n",
    "increase the counter for that word, stored in a list. It has to check if a word exists in the dictionary,\n",
    "and if not, take an appropriate action."
   ]
  },
  {
   "cell_type": "code",
   "execution_count": 16,
   "id": "114af963-462b-4f2f-b5a7-9249870e5768",
   "metadata": {},
   "outputs": [
    {
     "data": {
      "text/plain": [
       "['santa,',\n",
       " 'tell',\n",
       " 'me',\n",
       " 'if',\n",
       " 'you',\n",
       " 'are',\n",
       " 'really',\n",
       " 'there',\n",
       " 'do',\n",
       " 'not',\n",
       " 'make',\n",
       " 'me',\n",
       " 'fall',\n",
       " 'in',\n",
       " 'love',\n",
       " 'again',\n",
       " 'if',\n",
       " 'he',\n",
       " 'will',\n",
       " 'not',\n",
       " 'be',\n",
       " 'here',\n",
       " 'next',\n",
       " 'year',\n",
       " 'santa,',\n",
       " 'tell',\n",
       " 'me',\n",
       " 'if',\n",
       " 'he',\n",
       " 'really',\n",
       " 'cares',\n",
       " 'cause',\n",
       " 'i',\n",
       " 'cannot',\n",
       " 'give',\n",
       " 'it',\n",
       " 'all',\n",
       " 'away',\n",
       " 'if',\n",
       " 'he',\n",
       " 'will',\n",
       " 'not',\n",
       " 'be',\n",
       " 'here',\n",
       " 'next',\n",
       " 'year',\n",
       " 'feeling',\n",
       " 'christmas',\n",
       " 'all',\n",
       " 'around',\n",
       " 'and',\n",
       " 'i',\n",
       " 'am',\n",
       " 'trying',\n",
       " 'to',\n",
       " 'play',\n",
       " 'it',\n",
       " 'cool',\n",
       " 'but',\n",
       " 'it',\n",
       " 'is',\n",
       " 'hard',\n",
       " 'to',\n",
       " 'focus',\n",
       " 'when',\n",
       " 'i',\n",
       " 'see',\n",
       " 'him',\n",
       " 'walking',\n",
       " 'cross',\n",
       " 'the',\n",
       " 'room',\n",
       " 'let',\n",
       " 'it',\n",
       " 'snow',\n",
       " 'is',\n",
       " 'blasting',\n",
       " 'out',\n",
       " 'but',\n",
       " 'i',\n",
       " 'will',\n",
       " 'not',\n",
       " 'get',\n",
       " 'in',\n",
       " 'the',\n",
       " 'mood',\n",
       " 'i',\n",
       " 'am',\n",
       " 'avoiding',\n",
       " 'every',\n",
       " 'mistletoe',\n",
       " 'until',\n",
       " 'i',\n",
       " 'know',\n",
       " 'it',\n",
       " 'is',\n",
       " 'true',\n",
       " 'love',\n",
       " 'that',\n",
       " 'he',\n",
       " 'thinks',\n",
       " 'of',\n",
       " 'so',\n",
       " 'next',\n",
       " 'christmas',\n",
       " 'i',\n",
       " 'am',\n",
       " 'not',\n",
       " 'all',\n",
       " 'alone,',\n",
       " 'boy']"
      ]
     },
     "execution_count": 16,
     "metadata": {},
     "output_type": "execute_result"
    }
   ],
   "source": [
    "song = (\"Santa, tell me if you are really there Do not make me fall in love again If he will not be here next year Santa, tell me if he really cares Cause I cannot give it all away If he will not be here next year Feeling Christmas all around And I am trying to play it cool But it is hard to focus when I see him walking cross the room Let it Snow is blasting out But I will not get in the mood I am avoiding every mistletoe until I know It is true love that he thinks of So next Christmas I am not all alone, boy\")\n",
    "song = song.lower().split()\n",
    "song"
   ]
  },
  {
   "cell_type": "code",
   "execution_count": 17,
   "id": "ed98b558-1af9-4980-a460-d7712f1a3e03",
   "metadata": {},
   "outputs": [
    {
     "data": {
      "text/plain": [
       "{'santa,': 2,\n",
       " 'tell': 2,\n",
       " 'me': 3,\n",
       " 'if': 4,\n",
       " 'you': 1,\n",
       " 'are': 1,\n",
       " 'really': 2,\n",
       " 'there': 1,\n",
       " 'do': 1,\n",
       " 'not': 5,\n",
       " 'make': 1,\n",
       " 'fall': 1,\n",
       " 'in': 2,\n",
       " 'love': 2,\n",
       " 'again': 1,\n",
       " 'he': 4,\n",
       " 'will': 3,\n",
       " 'be': 2,\n",
       " 'here': 2,\n",
       " 'next': 3,\n",
       " 'year': 2,\n",
       " 'cares': 1,\n",
       " 'cause': 1,\n",
       " 'i': 7,\n",
       " 'cannot': 1,\n",
       " 'give': 1,\n",
       " 'it': 5,\n",
       " 'all': 3,\n",
       " 'away': 1,\n",
       " 'feeling': 1,\n",
       " 'christmas': 2,\n",
       " 'around': 1,\n",
       " 'and': 1,\n",
       " 'am': 3,\n",
       " 'trying': 1,\n",
       " 'to': 2,\n",
       " 'play': 1,\n",
       " 'cool': 1,\n",
       " 'but': 2,\n",
       " 'is': 3,\n",
       " 'hard': 1,\n",
       " 'focus': 1,\n",
       " 'when': 1,\n",
       " 'see': 1,\n",
       " 'him': 1,\n",
       " 'walking': 1,\n",
       " 'cross': 1,\n",
       " 'the': 2,\n",
       " 'room': 1,\n",
       " 'let': 1,\n",
       " 'snow': 1,\n",
       " 'blasting': 1,\n",
       " 'out': 1,\n",
       " 'get': 1,\n",
       " 'mood': 1,\n",
       " 'avoiding': 1,\n",
       " 'every': 1,\n",
       " 'mistletoe': 1,\n",
       " 'until': 1,\n",
       " 'know': 1,\n",
       " 'true': 1,\n",
       " 'that': 1,\n",
       " 'thinks': 1,\n",
       " 'of': 1,\n",
       " 'so': 1,\n",
       " 'alone,': 1,\n",
       " 'boy': 1}"
      ]
     },
     "execution_count": 17,
     "metadata": {},
     "output_type": "execute_result"
    }
   ],
   "source": [
    "song_word_counts = {}\n",
    "for i in song:\n",
    "    if i in song_word_counts.keys():\n",
    "        song_word_counts[i] += 1\n",
    "    else:\n",
    "        song_word_counts[i] = 1\n",
    "song_word_counts  "
   ]
  },
  {
   "cell_type": "markdown",
   "id": "80b5f781-376c-4797-8538-487f456af488",
   "metadata": {},
   "source": [
    "2. (3pt) Use set to find how many different words you have in your text above.\n",
    "Note: you can get this information from your word frequency dict too, but this task is about using\n",
    "set."
   ]
  },
  {
   "cell_type": "code",
   "execution_count": 18,
   "id": "0e5bc73a-1dca-48a5-84d8-e346c7610623",
   "metadata": {},
   "outputs": [
    {
     "data": {
      "text/plain": [
       "67"
      ]
     },
     "execution_count": 18,
     "metadata": {},
     "output_type": "execute_result"
    }
   ],
   "source": [
    "len(set(song))"
   ]
  },
  {
   "cell_type": "code",
   "execution_count": 19,
   "id": "5cddd692-7035-4342-aef3-ca5604efe870",
   "metadata": {},
   "outputs": [
    {
     "data": {
      "text/plain": [
       "67"
      ]
     },
     "execution_count": 19,
     "metadata": {},
     "output_type": "execute_result"
    }
   ],
   "source": [
    "# check if above is correct\n",
    "len(song_word_counts)"
   ]
  },
  {
   "cell_type": "markdown",
   "id": "07f49d03-8497-421f-b63e-2009e9c6137e",
   "metadata": {},
   "source": [
    "### 1.5 Comprehension"
   ]
  },
  {
   "cell_type": "markdown",
   "id": "41411f6e-dd8d-4181-9ca4-f08eabe3e986",
   "metadata": {},
   "source": [
    "1. (3pt) Use list comprehension to create a list of squares of numbers 1..10 (i.e. 1, 4, 9, ..., 100)"
   ]
  },
  {
   "cell_type": "code",
   "execution_count": 20,
   "id": "3f1b6392-cbf8-42de-93e5-7f9010fdc992",
   "metadata": {},
   "outputs": [
    {
     "data": {
      "text/plain": [
       "[1, 4, 9, 16, 25, 36, 49, 64, 81, 100]"
      ]
     },
     "execution_count": 20,
     "metadata": {},
     "output_type": "execute_result"
    }
   ],
   "source": [
    "[i**2 for i in range(1,11)]"
   ]
  },
  {
   "cell_type": "markdown",
   "id": "1725378d-531c-4911-89fc-08544c0f8bdd",
   "metadata": {},
   "source": [
    "2. (3pt) Use dict comprehension to create a dict of numbers 1..10 and their squares (i.e. 1:1, 2:4, ...,\n",
    "10:100)."
   ]
  },
  {
   "cell_type": "code",
   "execution_count": 21,
   "id": "6c209836-b2da-4abe-ac6d-9bbb294fef32",
   "metadata": {},
   "outputs": [
    {
     "data": {
      "text/plain": [
       "{1: 1, 2: 4, 3: 9, 4: 16, 5: 25, 6: 36, 7: 49, 8: 64, 9: 81, 10: 100}"
      ]
     },
     "execution_count": 21,
     "metadata": {},
     "output_type": "execute_result"
    }
   ],
   "source": [
    "{i:i**2 for i in range(1,11)}"
   ]
  },
  {
   "cell_type": "markdown",
   "id": "5cc3a0ba-3fa1-4565-b192-052061017545",
   "metadata": {},
   "source": [
    "### 1.6 Functions and Data Transformations "
   ]
  },
  {
   "cell_type": "markdown",
   "id": "48f3b75a-b89e-41a4-ba9b-0b52f9e3b084",
   "metadata": {},
   "source": [
    "1. (8pt) Write a function that takes in time in the numeric form (i.e. not a string) of HHMM (hours-\n",
    "minutes), and returns it in the numeric form of HH.HH (hours + fractions of hours). For instance,\n",
    "1015 →10.25 (10 hrs 15 mins →10.25 hrs). Demonstrate it works using values 1015 and 345.\n",
    "The function should return (not print) the result as a number.\n",
    "Hint: use modulo operator % and integer division operator //. Modulo of 100 gives you minutes\n",
    "and integer division by 100 gives you hours"
   ]
  },
  {
   "cell_type": "code",
   "execution_count": 22,
   "id": "3a9aa052-599b-4cd9-b2b7-4a44f2c35b98",
   "metadata": {},
   "outputs": [],
   "source": [
    "def time_transform (HHMM):\n",
    "    hr = HHMM // 100\n",
    "    minutes = round((HHMM % 100) /60, 2)\n",
    "    return (hr + minutes)"
   ]
  },
  {
   "cell_type": "code",
   "execution_count": 23,
   "id": "5a106767-3dad-4ef1-9311-33bc6e2ab546",
   "metadata": {},
   "outputs": [
    {
     "data": {
      "text/plain": [
       "10.25"
      ]
     },
     "execution_count": 23,
     "metadata": {},
     "output_type": "execute_result"
    }
   ],
   "source": [
    "# test\n",
    "time_transform(1015)"
   ]
  },
  {
   "cell_type": "code",
   "execution_count": 24,
   "id": "3cbb3aca-fc4c-4dac-94a7-3de0bee669e9",
   "metadata": {},
   "outputs": [
    {
     "data": {
      "text/plain": [
       "3.75"
      ]
     },
     "execution_count": 24,
     "metadata": {},
     "output_type": "execute_result"
    }
   ],
   "source": [
    "# test\n",
    "time_transform(345)"
   ]
  },
  {
   "cell_type": "markdown",
   "id": "f8e1d3dc-cb4f-42e8-a186-d4ff8f1e2cf9",
   "metadata": {},
   "source": [
    "# Basic Data Frames"
   ]
  },
  {
   "cell_type": "markdown",
   "id": "d1878813-d86c-4432-a459-245c07a8117c",
   "metadata": {},
   "source": [
    "### 2.1 Setup"
   ]
  },
  {
   "cell_type": "markdown",
   "id": "661a3a85-8160-440d-9eee-01306ee0c854",
   "metadata": {},
   "source": [
    "1. (2pt) Load the data"
   ]
  },
  {
   "cell_type": "code",
   "execution_count": 25,
   "id": "b8d1f3a0-4d2c-4c33-bca2-ff0f0811593c",
   "metadata": {},
   "outputs": [],
   "source": [
    "import pandas as pd"
   ]
  },
  {
   "cell_type": "code",
   "execution_count": 26,
   "id": "b66f2e51-f075-48e3-a0a6-1bb9629dc93d",
   "metadata": {},
   "outputs": [],
   "source": [
    "nycflight = pd.read_csv(\"data/nycflights13.csv.bz2\", sep = '\\t') "
   ]
  },
  {
   "cell_type": "markdown",
   "id": "4fb3c02a-7792-43a3-bda4-8090a955ad6d",
   "metadata": {},
   "source": [
    "2. (3 ×1pt) Do basic checks:\n",
    "* How many variables (columns) is there in the data? Ensure you know the variables in the\n",
    "data. Keep the documentation nearby.\n",
    "* How many rows of data is there?\n",
    "* print the first few lines of data. Does it look reasonable?"
   ]
  },
  {
   "cell_type": "code",
   "execution_count": 27,
   "id": "975e7a63-0971-4742-8d7d-8d0a1ee09af3",
   "metadata": {},
   "outputs": [
    {
     "data": {
      "text/plain": [
       "(336776, 19)"
      ]
     },
     "execution_count": 27,
     "metadata": {},
     "output_type": "execute_result"
    }
   ],
   "source": [
    "nycflight.shape"
   ]
  },
  {
   "cell_type": "code",
   "execution_count": 28,
   "id": "addb2e5c-2de8-4c44-88b6-4bea49380911",
   "metadata": {},
   "outputs": [
    {
     "data": {
      "text/html": [
       "<div>\n",
       "<style scoped>\n",
       "    .dataframe tbody tr th:only-of-type {\n",
       "        vertical-align: middle;\n",
       "    }\n",
       "\n",
       "    .dataframe tbody tr th {\n",
       "        vertical-align: top;\n",
       "    }\n",
       "\n",
       "    .dataframe thead th {\n",
       "        text-align: right;\n",
       "    }\n",
       "</style>\n",
       "<table border=\"1\" class=\"dataframe\">\n",
       "  <thead>\n",
       "    <tr style=\"text-align: right;\">\n",
       "      <th></th>\n",
       "      <th>year</th>\n",
       "      <th>month</th>\n",
       "      <th>day</th>\n",
       "      <th>dep_time</th>\n",
       "      <th>sched_dep_time</th>\n",
       "      <th>dep_delay</th>\n",
       "      <th>arr_time</th>\n",
       "      <th>sched_arr_time</th>\n",
       "      <th>arr_delay</th>\n",
       "      <th>carrier</th>\n",
       "      <th>flight</th>\n",
       "      <th>tailnum</th>\n",
       "      <th>origin</th>\n",
       "      <th>dest</th>\n",
       "      <th>air_time</th>\n",
       "      <th>distance</th>\n",
       "      <th>hour</th>\n",
       "      <th>minute</th>\n",
       "      <th>time_hour</th>\n",
       "    </tr>\n",
       "  </thead>\n",
       "  <tbody>\n",
       "    <tr>\n",
       "      <th>0</th>\n",
       "      <td>2013</td>\n",
       "      <td>1</td>\n",
       "      <td>1</td>\n",
       "      <td>517.0</td>\n",
       "      <td>515</td>\n",
       "      <td>2.0</td>\n",
       "      <td>830.0</td>\n",
       "      <td>819</td>\n",
       "      <td>11.0</td>\n",
       "      <td>UA</td>\n",
       "      <td>1545</td>\n",
       "      <td>N14228</td>\n",
       "      <td>EWR</td>\n",
       "      <td>IAH</td>\n",
       "      <td>227.0</td>\n",
       "      <td>1400</td>\n",
       "      <td>5</td>\n",
       "      <td>15</td>\n",
       "      <td>2013-01-01T10:00:00Z</td>\n",
       "    </tr>\n",
       "    <tr>\n",
       "      <th>1</th>\n",
       "      <td>2013</td>\n",
       "      <td>1</td>\n",
       "      <td>1</td>\n",
       "      <td>533.0</td>\n",
       "      <td>529</td>\n",
       "      <td>4.0</td>\n",
       "      <td>850.0</td>\n",
       "      <td>830</td>\n",
       "      <td>20.0</td>\n",
       "      <td>UA</td>\n",
       "      <td>1714</td>\n",
       "      <td>N24211</td>\n",
       "      <td>LGA</td>\n",
       "      <td>IAH</td>\n",
       "      <td>227.0</td>\n",
       "      <td>1416</td>\n",
       "      <td>5</td>\n",
       "      <td>29</td>\n",
       "      <td>2013-01-01T10:00:00Z</td>\n",
       "    </tr>\n",
       "    <tr>\n",
       "      <th>2</th>\n",
       "      <td>2013</td>\n",
       "      <td>1</td>\n",
       "      <td>1</td>\n",
       "      <td>542.0</td>\n",
       "      <td>540</td>\n",
       "      <td>2.0</td>\n",
       "      <td>923.0</td>\n",
       "      <td>850</td>\n",
       "      <td>33.0</td>\n",
       "      <td>AA</td>\n",
       "      <td>1141</td>\n",
       "      <td>N619AA</td>\n",
       "      <td>JFK</td>\n",
       "      <td>MIA</td>\n",
       "      <td>160.0</td>\n",
       "      <td>1089</td>\n",
       "      <td>5</td>\n",
       "      <td>40</td>\n",
       "      <td>2013-01-01T10:00:00Z</td>\n",
       "    </tr>\n",
       "    <tr>\n",
       "      <th>3</th>\n",
       "      <td>2013</td>\n",
       "      <td>1</td>\n",
       "      <td>1</td>\n",
       "      <td>544.0</td>\n",
       "      <td>545</td>\n",
       "      <td>-1.0</td>\n",
       "      <td>1004.0</td>\n",
       "      <td>1022</td>\n",
       "      <td>-18.0</td>\n",
       "      <td>B6</td>\n",
       "      <td>725</td>\n",
       "      <td>N804JB</td>\n",
       "      <td>JFK</td>\n",
       "      <td>BQN</td>\n",
       "      <td>183.0</td>\n",
       "      <td>1576</td>\n",
       "      <td>5</td>\n",
       "      <td>45</td>\n",
       "      <td>2013-01-01T10:00:00Z</td>\n",
       "    </tr>\n",
       "    <tr>\n",
       "      <th>4</th>\n",
       "      <td>2013</td>\n",
       "      <td>1</td>\n",
       "      <td>1</td>\n",
       "      <td>554.0</td>\n",
       "      <td>600</td>\n",
       "      <td>-6.0</td>\n",
       "      <td>812.0</td>\n",
       "      <td>837</td>\n",
       "      <td>-25.0</td>\n",
       "      <td>DL</td>\n",
       "      <td>461</td>\n",
       "      <td>N668DN</td>\n",
       "      <td>LGA</td>\n",
       "      <td>ATL</td>\n",
       "      <td>116.0</td>\n",
       "      <td>762</td>\n",
       "      <td>6</td>\n",
       "      <td>0</td>\n",
       "      <td>2013-01-01T11:00:00Z</td>\n",
       "    </tr>\n",
       "  </tbody>\n",
       "</table>\n",
       "</div>"
      ],
      "text/plain": [
       "   year  month  day  dep_time  sched_dep_time  dep_delay  arr_time  \\\n",
       "0  2013      1    1     517.0             515        2.0     830.0   \n",
       "1  2013      1    1     533.0             529        4.0     850.0   \n",
       "2  2013      1    1     542.0             540        2.0     923.0   \n",
       "3  2013      1    1     544.0             545       -1.0    1004.0   \n",
       "4  2013      1    1     554.0             600       -6.0     812.0   \n",
       "\n",
       "   sched_arr_time  arr_delay carrier  flight tailnum origin dest  air_time  \\\n",
       "0             819       11.0      UA    1545  N14228    EWR  IAH     227.0   \n",
       "1             830       20.0      UA    1714  N24211    LGA  IAH     227.0   \n",
       "2             850       33.0      AA    1141  N619AA    JFK  MIA     160.0   \n",
       "3            1022      -18.0      B6     725  N804JB    JFK  BQN     183.0   \n",
       "4             837      -25.0      DL     461  N668DN    LGA  ATL     116.0   \n",
       "\n",
       "   distance  hour  minute             time_hour  \n",
       "0      1400     5      15  2013-01-01T10:00:00Z  \n",
       "1      1416     5      29  2013-01-01T10:00:00Z  \n",
       "2      1089     5      40  2013-01-01T10:00:00Z  \n",
       "3      1576     5      45  2013-01-01T10:00:00Z  \n",
       "4       762     6       0  2013-01-01T11:00:00Z  "
      ]
     },
     "execution_count": 28,
     "metadata": {},
     "output_type": "execute_result"
    }
   ],
   "source": [
    "nycflight.head(5)"
   ]
  },
  {
   "cell_type": "markdown",
   "id": "04809b60-052f-4160-ad58-f4a8aad52dda",
   "metadata": {},
   "source": [
    "* The dataset has 19 columns. \n",
    "* The dataset has 336776 rows. \n",
    "* It seems reasonable because it has 19 columns and all rows and columns has its data. "
   ]
  },
  {
   "cell_type": "markdown",
   "id": "cddc3f8d-0368-48eb-9469-d513f10e8885",
   "metadata": {},
   "source": [
    "### 2.2 Basic Data Exploration"
   ]
  },
  {
   "cell_type": "markdown",
   "id": "09a8bb04-649c-49ff-a40c-89d5423b9e87",
   "metadata": {},
   "source": [
    "1. (5pt) How many NYC airports are included in this data? Which airports are these?"
   ]
  },
  {
   "cell_type": "code",
   "execution_count": 29,
   "id": "7479a9ee-79b0-4a30-84c0-e723e3b6397e",
   "metadata": {},
   "outputs": [
    {
     "data": {
      "text/plain": [
       "3"
      ]
     },
     "execution_count": 29,
     "metadata": {},
     "output_type": "execute_result"
    }
   ],
   "source": [
    "len(nycflight.origin.unique())"
   ]
  },
  {
   "cell_type": "code",
   "execution_count": 30,
   "id": "87e9fede-67b5-442e-8f72-4713d3e07d71",
   "metadata": {},
   "outputs": [
    {
     "data": {
      "text/plain": [
       "array(['EWR', 'LGA', 'JFK'], dtype=object)"
      ]
     },
     "execution_count": 30,
     "metadata": {},
     "output_type": "execute_result"
    }
   ],
   "source": [
    "nycflight.origin.unique()"
   ]
  },
  {
   "cell_type": "markdown",
   "id": "ed0d0b88-6c78-4250-82ad-4413bc2e02a8",
   "metadata": {},
   "source": [
    "* There are three NYC airports included in this data. They are EWR, LGA, and JFK."
   ]
  },
  {
   "cell_type": "markdown",
   "id": "b3c02908-b3d4-44e5-bdfb-7a1667b8497f",
   "metadata": {},
   "source": [
    "2. (4pt) Into how many airports did the airlines fly from NYC in 2013?"
   ]
  },
  {
   "cell_type": "code",
   "execution_count": 31,
   "id": "ec5903ee-dae8-4111-be90-b96db3e24844",
   "metadata": {},
   "outputs": [
    {
     "data": {
      "text/plain": [
       "336776"
      ]
     },
     "execution_count": 31,
     "metadata": {},
     "output_type": "execute_result"
    }
   ],
   "source": [
    "# check if all dataset is in 2013 \n",
    "(nycflight.year == 2013).sum()"
   ]
  },
  {
   "cell_type": "code",
   "execution_count": 32,
   "id": "3f9c74b6-3a1f-4537-9241-5da52c98f956",
   "metadata": {},
   "outputs": [
    {
     "data": {
      "text/plain": [
       "105"
      ]
     },
     "execution_count": 32,
     "metadata": {},
     "output_type": "execute_result"
    }
   ],
   "source": [
    "len(nycflight.dest.unique())"
   ]
  },
  {
   "cell_type": "markdown",
   "id": "836ac8ca-6d02-45e8-bedf-7449a6948597",
   "metadata": {},
   "source": [
    "* There were 105 airports (or destination) where the airlines fly from NYC in 2013. "
   ]
  },
  {
   "cell_type": "markdown",
   "id": "801e9bf1-9cea-43ee-9310-ab1ce6a802e9",
   "metadata": {},
   "source": [
    "3. (5pt) How many flights were there from NYC to Seattle (airport code SEA)?"
   ]
  },
  {
   "cell_type": "code",
   "execution_count": 33,
   "id": "d90a2e02-0aa0-4216-b43b-347bd5ef0134",
   "metadata": {},
   "outputs": [
    {
     "data": {
      "text/plain": [
       "3923"
      ]
     },
     "execution_count": 33,
     "metadata": {},
     "output_type": "execute_result"
    }
   ],
   "source": [
    "(nycflight.dest == \"SEA\").sum()"
   ]
  },
  {
   "cell_type": "markdown",
   "id": "5d919281-de65-494b-99aa-4dfcb26bac5d",
   "metadata": {},
   "source": [
    "* There were 3923 flights from NYC to Seattle in 2013. "
   ]
  },
  {
   "cell_type": "markdown",
   "id": "ca4549e9-ed22-43ef-9fba-027f6d645c7a",
   "metadata": {},
   "source": [
    "4. (5pt) Were there any flights from NYC to Spokane (GEG)?"
   ]
  },
  {
   "cell_type": "code",
   "execution_count": 34,
   "id": "1433e06a-1c75-4d6e-b76e-8889f8b59667",
   "metadata": {},
   "outputs": [
    {
     "data": {
      "text/plain": [
       "0"
      ]
     },
     "execution_count": 34,
     "metadata": {},
     "output_type": "execute_result"
    }
   ],
   "source": [
    "(nycflight.dest == \"GEG\").sum()"
   ]
  },
  {
   "cell_type": "markdown",
   "id": "e7fd2108-a972-43bb-99e2-d02fb743f487",
   "metadata": {},
   "source": [
    "* Since the sum function returns 0, there were no flight from NYC to Spokane. "
   ]
  },
  {
   "cell_type": "markdown",
   "id": "ee536051-c9ae-4c04-915d-5a1a420cf191",
   "metadata": {},
   "source": [
    "### 2.3 Flight Delays"
   ]
  },
  {
   "cell_type": "markdown",
   "id": "bfed31b9-4e20-495f-809f-d3193b0a43e1",
   "metadata": {},
   "source": [
    "1. (4pt) Create a new data frame, a subset of the flights data that only contains two variables: departure\n",
    "delay and arrival delay."
   ]
  },
  {
   "cell_type": "code",
   "execution_count": 35,
   "id": "96d48706-75aa-49b0-aa3f-7bdc2b701a53",
   "metadata": {},
   "outputs": [],
   "source": [
    "delay = nycflight[[\"dep_delay\", \"arr_delay\"]]"
   ]
  },
  {
   "cell_type": "code",
   "execution_count": 36,
   "id": "55674cce-3585-4c15-9365-d8745ab12b58",
   "metadata": {},
   "outputs": [
    {
     "data": {
      "text/html": [
       "<div>\n",
       "<style scoped>\n",
       "    .dataframe tbody tr th:only-of-type {\n",
       "        vertical-align: middle;\n",
       "    }\n",
       "\n",
       "    .dataframe tbody tr th {\n",
       "        vertical-align: top;\n",
       "    }\n",
       "\n",
       "    .dataframe thead th {\n",
       "        text-align: right;\n",
       "    }\n",
       "</style>\n",
       "<table border=\"1\" class=\"dataframe\">\n",
       "  <thead>\n",
       "    <tr style=\"text-align: right;\">\n",
       "      <th></th>\n",
       "      <th>dep_delay</th>\n",
       "      <th>arr_delay</th>\n",
       "    </tr>\n",
       "  </thead>\n",
       "  <tbody>\n",
       "    <tr>\n",
       "      <th>0</th>\n",
       "      <td>2.0</td>\n",
       "      <td>11.0</td>\n",
       "    </tr>\n",
       "    <tr>\n",
       "      <th>1</th>\n",
       "      <td>4.0</td>\n",
       "      <td>20.0</td>\n",
       "    </tr>\n",
       "    <tr>\n",
       "      <th>2</th>\n",
       "      <td>2.0</td>\n",
       "      <td>33.0</td>\n",
       "    </tr>\n",
       "    <tr>\n",
       "      <th>3</th>\n",
       "      <td>-1.0</td>\n",
       "      <td>-18.0</td>\n",
       "    </tr>\n",
       "    <tr>\n",
       "      <th>4</th>\n",
       "      <td>-6.0</td>\n",
       "      <td>-25.0</td>\n",
       "    </tr>\n",
       "  </tbody>\n",
       "</table>\n",
       "</div>"
      ],
      "text/plain": [
       "   dep_delay  arr_delay\n",
       "0        2.0       11.0\n",
       "1        4.0       20.0\n",
       "2        2.0       33.0\n",
       "3       -1.0      -18.0\n",
       "4       -6.0      -25.0"
      ]
     },
     "execution_count": 36,
     "metadata": {},
     "output_type": "execute_result"
    }
   ],
   "source": [
    "# check if created dataframe correctly\n",
    "delay.head(5)"
   ]
  },
  {
   "cell_type": "markdown",
   "id": "a31e2357-6449-408d-af4b-986e4b609ed9",
   "metadata": {},
   "source": [
    "2. (2pt) Print a small random sample of the delay data frame."
   ]
  },
  {
   "cell_type": "code",
   "execution_count": 37,
   "id": "e84e8b5f-1132-4314-8d75-f1a7e23dbe39",
   "metadata": {},
   "outputs": [
    {
     "data": {
      "text/html": [
       "<div>\n",
       "<style scoped>\n",
       "    .dataframe tbody tr th:only-of-type {\n",
       "        vertical-align: middle;\n",
       "    }\n",
       "\n",
       "    .dataframe tbody tr th {\n",
       "        vertical-align: top;\n",
       "    }\n",
       "\n",
       "    .dataframe thead th {\n",
       "        text-align: right;\n",
       "    }\n",
       "</style>\n",
       "<table border=\"1\" class=\"dataframe\">\n",
       "  <thead>\n",
       "    <tr style=\"text-align: right;\">\n",
       "      <th></th>\n",
       "      <th>dep_delay</th>\n",
       "      <th>arr_delay</th>\n",
       "    </tr>\n",
       "  </thead>\n",
       "  <tbody>\n",
       "    <tr>\n",
       "      <th>139635</th>\n",
       "      <td>-4.0</td>\n",
       "      <td>16.0</td>\n",
       "    </tr>\n",
       "    <tr>\n",
       "      <th>181758</th>\n",
       "      <td>-5.0</td>\n",
       "      <td>-17.0</td>\n",
       "    </tr>\n",
       "    <tr>\n",
       "      <th>115800</th>\n",
       "      <td>-5.0</td>\n",
       "      <td>-10.0</td>\n",
       "    </tr>\n",
       "    <tr>\n",
       "      <th>277224</th>\n",
       "      <td>0.0</td>\n",
       "      <td>13.0</td>\n",
       "    </tr>\n",
       "    <tr>\n",
       "      <th>29080</th>\n",
       "      <td>-8.0</td>\n",
       "      <td>-22.0</td>\n",
       "    </tr>\n",
       "    <tr>\n",
       "      <th>27129</th>\n",
       "      <td>-6.0</td>\n",
       "      <td>-28.0</td>\n",
       "    </tr>\n",
       "    <tr>\n",
       "      <th>232281</th>\n",
       "      <td>-4.0</td>\n",
       "      <td>-44.0</td>\n",
       "    </tr>\n",
       "    <tr>\n",
       "      <th>315430</th>\n",
       "      <td>-9.0</td>\n",
       "      <td>-23.0</td>\n",
       "    </tr>\n",
       "    <tr>\n",
       "      <th>45320</th>\n",
       "      <td>15.0</td>\n",
       "      <td>27.0</td>\n",
       "    </tr>\n",
       "    <tr>\n",
       "      <th>36334</th>\n",
       "      <td>3.0</td>\n",
       "      <td>-9.0</td>\n",
       "    </tr>\n",
       "  </tbody>\n",
       "</table>\n",
       "</div>"
      ],
      "text/plain": [
       "        dep_delay  arr_delay\n",
       "139635       -4.0       16.0\n",
       "181758       -5.0      -17.0\n",
       "115800       -5.0      -10.0\n",
       "277224        0.0       13.0\n",
       "29080        -8.0      -22.0\n",
       "27129        -6.0      -28.0\n",
       "232281       -4.0      -44.0\n",
       "315430       -9.0      -23.0\n",
       "45320        15.0       27.0\n",
       "36334         3.0       -9.0"
      ]
     },
     "execution_count": 37,
     "metadata": {},
     "output_type": "execute_result"
    }
   ],
   "source": [
    "delay.sample(10)"
   ]
  },
  {
   "cell_type": "markdown",
   "id": "9a6987cb-da05-451f-9f37-d29f1565c0b2",
   "metadata": {},
   "source": [
    "* Above table shows ten random sample from flight delay. "
   ]
  },
  {
   "cell_type": "markdown",
   "id": "1e8191de-823a-4228-9264-137fd8085ba8",
   "metadata": {},
   "source": [
    "3. (3pt) What is the data type of the flight delay value?"
   ]
  },
  {
   "cell_type": "code",
   "execution_count": 38,
   "id": "5bbd5bb3-4abd-405f-acdc-466669445d4f",
   "metadata": {},
   "outputs": [
    {
     "data": {
      "text/plain": [
       "dep_delay    float64\n",
       "arr_delay    float64\n",
       "dtype: object"
      ]
     },
     "execution_count": 38,
     "metadata": {},
     "output_type": "execute_result"
    }
   ],
   "source": [
    "delay.dtypes"
   ]
  },
  {
   "cell_type": "markdown",
   "id": "812406f4-6407-4d4a-aa98-e55d2ad219cf",
   "metadata": {},
   "source": [
    "* The data type of both departure delay and arrival delay is float64. "
   ]
  },
  {
   "cell_type": "markdown",
   "id": "88d81cd4-878f-4cfd-ad0f-becbce215db3",
   "metadata": {},
   "source": [
    "4. (5pt) Filter to keep the “slow flights”: cases where the plane leaves early but arrives late. How\n",
    "many cases do you have?\n",
    "Hint: about 35k"
   ]
  },
  {
   "cell_type": "code",
   "execution_count": 39,
   "id": "04831994-c1d6-4525-b9cc-af37620065da",
   "metadata": {},
   "outputs": [
    {
     "data": {
      "text/plain": [
       "35648"
      ]
     },
     "execution_count": 39,
     "metadata": {},
     "output_type": "execute_result"
    }
   ],
   "source": [
    "slow_flights = ((delay.dep_delay < 0) & (delay.arr_delay > 0)).sum()\n",
    "slow_flights"
   ]
  },
  {
   "cell_type": "markdown",
   "id": "9f984d44-baa7-4460-9884-319ebbd2a1e1",
   "metadata": {},
   "source": [
    "* There are 35648 cases of slow flights: plane leaves early but arrives late. "
   ]
  },
  {
   "cell_type": "markdown",
   "id": "b81e903f-cc4d-45dc-a22c-4e4d859f3aa7",
   "metadata": {},
   "source": [
    "5. (5pt) What is the longest “extra flight time”, i.e. difference between arrival delay and departure\n",
    "delay?\n",
    "Hint: you can create a new variable that is the extra delay, and find the max value of it.\n",
    "Hint2: read python notes 5.2 What are the values?"
   ]
  },
  {
   "cell_type": "code",
   "execution_count": 40,
   "id": "cd0d43e9-b4fe-4b7d-bcfb-311678b7f0e2",
   "metadata": {},
   "outputs": [
    {
     "data": {
      "text/plain": [
       "235330     NaN\n",
       "28044    -22.0\n",
       "125127   -37.0\n",
       "322178   -20.0\n",
       "121927   -30.0\n",
       "97251      2.0\n",
       "35068    -27.0\n",
       "100609   -26.0\n",
       "27376    -11.0\n",
       "170507   -23.0\n",
       "dtype: float64"
      ]
     },
     "execution_count": 40,
     "metadata": {},
     "output_type": "execute_result"
    }
   ],
   "source": [
    "extra_delay = (delay.arr_delay - delay.dep_delay)\n",
    "# check if extra_delay correctly created\n",
    "extra_delay.sample(10)"
   ]
  },
  {
   "cell_type": "code",
   "execution_count": 41,
   "id": "960eaedd-cd59-4695-b3ec-41302095a588",
   "metadata": {},
   "outputs": [
    {
     "data": {
      "text/plain": [
       "196.0"
      ]
     },
     "execution_count": 41,
     "metadata": {},
     "output_type": "execute_result"
    }
   ],
   "source": [
    "extra_delay.max()"
   ]
  },
  {
   "cell_type": "markdown",
   "id": "91b06a9d-2919-4c27-973b-ea6241a1a154",
   "metadata": {},
   "source": [
    "* The longest extra flight time is 196 minutes. "
   ]
  },
  {
   "cell_type": "markdown",
   "id": "e520b2f9-f816-47b2-86ae-55a18c3ef2fd",
   "metadata": {},
   "source": [
    "6. (4pt) Are there any implausible flight delay values?"
   ]
  },
  {
   "cell_type": "code",
   "execution_count": 42,
   "id": "c01f8296-c481-4a05-a35a-e2a862cd7d9a",
   "metadata": {},
   "outputs": [
    {
     "data": {
      "text/plain": [
       "55985     196.0\n",
       "181270    181.0\n",
       "287308    165.0\n",
       "259366    161.0\n",
       "247336    157.0\n",
       "270752    154.0\n",
       "250625    153.0\n",
       "259407    150.0\n",
       "270758    150.0\n",
       "181327    148.0\n",
       "dtype: float64"
      ]
     },
     "execution_count": 42,
     "metadata": {},
     "output_type": "execute_result"
    }
   ],
   "source": [
    "extra_delay.nlargest(10)"
   ]
  },
  {
   "cell_type": "code",
   "execution_count": 43,
   "id": "6f32df9a-fd6a-4a76-90f4-4d23c8ff7ae5",
   "metadata": {},
   "outputs": [
    {
     "data": {
      "text/plain": [
       "9430"
      ]
     },
     "execution_count": 43,
     "metadata": {},
     "output_type": "execute_result"
    }
   ],
   "source": [
    "extra_delay.isna().sum()"
   ]
  },
  {
   "cell_type": "markdown",
   "id": "ecefa0ff-8d8e-4e35-9ad1-57ebff0e5158",
   "metadata": {},
   "source": [
    "* There seems no implausible flight delay because the ten longest extra flight time are within 210 minutes, which is 3 hours and 30 minutes. However, there are 9430 flight delay where values are not descibed (data recorded as NA). "
   ]
  },
  {
   "cell_type": "markdown",
   "id": "25cde667-ba15-4e86-b70d-83800fbe1ec2",
   "metadata": {},
   "source": [
    "7. (5pt) How many of flights were delayed (positive arrival delay)?"
   ]
  },
  {
   "cell_type": "code",
   "execution_count": 44,
   "id": "afc61ab7-937b-4300-b7df-03d6dcff43a3",
   "metadata": {},
   "outputs": [
    {
     "data": {
      "text/plain": [
       "133004"
      ]
     },
     "execution_count": 44,
     "metadata": {},
     "output_type": "execute_result"
    }
   ],
   "source": [
    "(delay.arr_delay > 0).sum()"
   ]
  },
  {
   "cell_type": "markdown",
   "id": "26dc15fa-c73b-4abf-a373-377469e88933",
   "metadata": {},
   "source": [
    "* There were 133,004 delayed flights. "
   ]
  },
  {
   "cell_type": "markdown",
   "id": "a7a019c2-0594-43f7-9dd1-36b224f93ea8",
   "metadata": {},
   "source": [
    "8. (5pt) What percentage of flights were delayed more than 15 minutes (at arrival)?\n",
    "Hint: slightly more than 23%."
   ]
  },
  {
   "cell_type": "code",
   "execution_count": 45,
   "id": "7b6276f4-c7d8-4e51-ac9e-6b044b4daa08",
   "metadata": {},
   "outputs": [
    {
     "data": {
      "text/plain": [
       "0.2305092999501152"
      ]
     },
     "execution_count": 45,
     "metadata": {},
     "output_type": "execute_result"
    }
   ],
   "source": [
    "((delay.arr_delay > 15).sum()) / (len(delay.arr_delay))"
   ]
  },
  {
   "cell_type": "markdown",
   "id": "b162d8cb-0bf1-453a-96eb-cdb17b5f4ceb",
   "metadata": {},
   "source": [
    "* 23.05 percent of flight were delayed more than 15 minutes. "
   ]
  },
  {
   "cell_type": "code",
   "execution_count": null,
   "id": "617249a0-56d4-463e-8176-6907032aaef6",
   "metadata": {},
   "outputs": [],
   "source": [
    "\n",
    "    "
   ]
  }
 ],
 "metadata": {
  "kernelspec": {
   "display_name": "Python 3 (ipykernel)",
   "language": "python",
   "name": "python3"
  },
  "language_info": {
   "codemirror_mode": {
    "name": "ipython",
    "version": 3
   },
   "file_extension": ".py",
   "mimetype": "text/x-python",
   "name": "python",
   "nbconvert_exporter": "python",
   "pygments_lexer": "ipython3",
   "version": "3.9.7"
  }
 },
 "nbformat": 4,
 "nbformat_minor": 5
}
