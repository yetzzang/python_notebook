{
  "nbformat": 4,
  "nbformat_minor": 0,
  "metadata": {
    "colab": {
      "provenance": [],
      "authorship_tag": "ABX9TyNVBetU8dKFBR7jU4a/ZYjY"
    },
    "kernelspec": {
      "name": "python3",
      "display_name": "Python 3"
    },
    "language_info": {
      "name": "python"
    }
  },
  "cells": [
    {
      "cell_type": "markdown",
      "source": [
        "# Print "
      ],
      "metadata": {
        "id": "kg2mXt1xKOXp"
      }
    },
    {
      "cell_type": "code",
      "source": [
        "print(\"Hello World\")\n",
        "print(\"10\") # print as character\n",
        "print(10) # print as number "
      ],
      "metadata": {
        "id": "cr_A6EcvO_6q",
        "colab": {
          "base_uri": "https://localhost:8080/"
        },
        "outputId": "2d617a89-4236-4890-8e80-004c0f82983e"
      },
      "execution_count": null,
      "outputs": [
        {
          "output_type": "stream",
          "name": "stdout",
          "text": [
            "Hello World\n",
            "10\n",
            "10\n"
          ]
        }
      ]
    },
    {
      "cell_type": "markdown",
      "source": [
        "### end "
      ],
      "metadata": {
        "id": "bc-bg7nuTiev"
      }
    },
    {
      "cell_type": "code",
      "source": [
        "# space between comma\n",
        "print(\"Hello\", \"World\")\n",
        "\n",
        "print(\"Hello\", end=\"\")\n",
        "print(\"World\")\n",
        "print(\"Hello\", end=\" \")\n",
        "print(\"World\")\n",
        "print(\"Hello\", end=\",\")\n",
        "print(\"World\")"
      ],
      "metadata": {
        "colab": {
          "base_uri": "https://localhost:8080/"
        },
        "id": "8rkVGW9SPQqi",
        "outputId": "2d9b1d4c-2f18-40b5-ec4d-29ea32449aef"
      },
      "execution_count": null,
      "outputs": [
        {
          "output_type": "stream",
          "name": "stdout",
          "text": [
            "Hello World\n",
            "HelloWorld\n",
            "Hello World\n",
            "Hello,World\n"
          ]
        }
      ]
    },
    {
      "cell_type": "code",
      "source": [
        "# number \n",
        "print(10+5)\n",
        "print(10-5)\n",
        "print(10*5)\n",
        "print(10/5)\n",
        "print(\"10+5\")"
      ],
      "metadata": {
        "colab": {
          "base_uri": "https://localhost:8080/"
        },
        "id": "ftXPoT5bP54Z",
        "outputId": "fbd3beb6-ed80-4027-d3a6-dd64263aa190"
      },
      "execution_count": null,
      "outputs": [
        {
          "output_type": "stream",
          "name": "stdout",
          "text": [
            "15\n",
            "5\n",
            "50\n",
            "2.0\n",
            "10+5\n"
          ]
        }
      ]
    },
    {
      "cell_type": "markdown",
      "source": [
        "### %d, %f, %s\n",
        "\n",
        "* %d : nteger\n",
        "* %f : real number\n",
        "* %s : character"
      ],
      "metadata": {
        "id": "KACih-UQTpb0"
      }
    },
    {
      "cell_type": "code",
      "source": [
        "print(\"number : 100\")\n",
        "print(\"number : %d\" %100) # number 100 goes into %d \n",
        "print(\"number : %d\" %100.5) # since %d is integer, 100.5 wll give 100\n",
        "\n",
        "print(\"real number : %f\" %100.5)\n",
        "\n",
        "print(\"character : %s\" %\"python\")\n",
        "print(\"character : %s\" %100) # since %s is character, 100 is rather a character than a number\n"
      ],
      "metadata": {
        "id": "Ico1fXX_QCRu",
        "colab": {
          "base_uri": "https://localhost:8080/"
        },
        "outputId": "c3b3cff8-08db-4d1e-dbe2-d9a4d11735bb"
      },
      "execution_count": null,
      "outputs": [
        {
          "output_type": "stream",
          "name": "stdout",
          "text": [
            "number : 100\n",
            "number : 100\n",
            "number : 100\n",
            "real number : 100.500000\n",
            "character : python\n",
            "character : 100\n"
          ]
        }
      ]
    },
    {
      "cell_type": "code",
      "source": [
        "# example\n",
        "# Q: print 5 + 3 = 8, but you should use addition for the result \n",
        "\n",
        "print(\"%d + %d = %d\" %(5, 3, 5+3))"
      ],
      "metadata": {
        "colab": {
          "base_uri": "https://localhost:8080/"
        },
        "id": "LUuDaE7eRTWx",
        "outputId": "5ec8b92f-399c-4cf8-8643-266bc88704c1"
      },
      "execution_count": null,
      "outputs": [
        {
          "output_type": "stream",
          "name": "stdout",
          "text": [
            "5 + 3 = 8\n"
          ]
        }
      ]
    },
    {
      "cell_type": "code",
      "source": [
        "# %num d : there are num spaces in printing \n",
        "\n",
        "print(\"%5d\" %100)\n",
        "print(\"%5d\" %100000)\n",
        "print(\"%5d\" %1000000) # just push back \n",
        "print(\"%05d\" %100) # fill rest spaces with zero"
      ],
      "metadata": {
        "colab": {
          "base_uri": "https://localhost:8080/"
        },
        "id": "1yiuRir0RxKz",
        "outputId": "c6f7944d-7e61-4431-be7a-a4fbb34f3270"
      },
      "execution_count": null,
      "outputs": [
        {
          "output_type": "stream",
          "name": "stdout",
          "text": [
            "  100\n",
            "100000\n",
            "1000000\n",
            "00100\n"
          ]
        }
      ]
    },
    {
      "cell_type": "code",
      "source": [
        "print(\"%6.2f\" %123.45) # there are total of 6 spaces and 2 decimal spaces \n",
        "print(\"%6.2f\" %123.456) # round up to 2 decimal spaces \n",
        "print(\"%6.2f\" %123.4) # fill the rest empty with zero"
      ],
      "metadata": {
        "colab": {
          "base_uri": "https://localhost:8080/"
        },
        "id": "wBYCYv3kSZiZ",
        "outputId": "6282b7f3-d784-4b3f-cf8c-9be363a76398"
      },
      "execution_count": null,
      "outputs": [
        {
          "output_type": "stream",
          "name": "stdout",
          "text": [
            "123.45\n",
            "123.46\n",
            "123.40\n"
          ]
        }
      ]
    },
    {
      "cell_type": "code",
      "source": [
        "# example\n",
        "# Q: 5 / 3 = ?; one with integer and one with real number with 3 decimal spaces\n",
        "\n",
        "print(\"%d / %d = %d\" %(5, 3, 5/3))\n",
        "print(\"%d / %d = %.3f\" %(5, 3, 5/3))"
      ],
      "metadata": {
        "colab": {
          "base_uri": "https://localhost:8080/"
        },
        "id": "5N00Gtk5Sm4h",
        "outputId": "24a0827f-9052-41d3-e1c3-2228df919105"
      },
      "execution_count": null,
      "outputs": [
        {
          "output_type": "stream",
          "name": "stdout",
          "text": [
            "5 / 3 = 1\n",
            "5 / 3 = 1.667\n"
          ]
        }
      ]
    },
    {
      "cell_type": "markdown",
      "source": [
        "### format function"
      ],
      "metadata": {
        "id": "JaF9JvcoTQkk"
      }
    },
    {
      "cell_type": "code",
      "source": [
        "print(\"{0} {1}\".format(\"apple\", \"banana\"))\n",
        "print(\"{1} {0}\".format(\"apple\", \"banana\"))\n",
        "print(\"{1} {2} {0}\".format(\"apple\", \" \", \"banana\"))"
      ],
      "metadata": {
        "colab": {
          "base_uri": "https://localhost:8080/"
        },
        "id": "gE6M8VnbT4BB",
        "outputId": "abdfc3e7-ee84-4058-b88c-a22067a983ea"
      },
      "execution_count": null,
      "outputs": [
        {
          "output_type": "stream",
          "name": "stdout",
          "text": [
            "apple banana\n",
            "banana apple\n",
            "  banana apple\n"
          ]
        }
      ]
    },
    {
      "cell_type": "code",
      "source": [
        "# example\n",
        "print(\"The age of {0:5s} is {1:03d}.\".format(\"Apple\", 20))\n",
        "print(\"The height of {0} is {1:6.2f}.\".format(\"Banana\", 160.5))"
      ],
      "metadata": {
        "colab": {
          "base_uri": "https://localhost:8080/"
        },
        "id": "sM6cMlS6UEO5",
        "outputId": "4ef4af2f-1dcf-437a-b2af-cd2f323db7a5"
      },
      "execution_count": null,
      "outputs": [
        {
          "output_type": "stream",
          "name": "stdout",
          "text": [
            "The age of Apple is 020.\n",
            "The height of Banana is 160.50.\n"
          ]
        }
      ]
    },
    {
      "cell_type": "markdown",
      "source": [
        "# Variable"
      ],
      "metadata": {
        "id": "WxRJJl1GUjJ5"
      }
    },
    {
      "cell_type": "code",
      "source": [
        "name = \"Apple\"\n",
        "age = 20\n",
        "\n",
        "print(name)\n",
        "print(age)\n",
        "\n",
        "name = \"Banana\"\n",
        "\n",
        "print(name)\n",
        "print(age)"
      ],
      "metadata": {
        "colab": {
          "base_uri": "https://localhost:8080/"
        },
        "id": "oEoWt1waVFlE",
        "outputId": "68e6dc1d-f12d-4ed9-a1c3-98888aec5b0a"
      },
      "execution_count": null,
      "outputs": [
        {
          "output_type": "stream",
          "name": "stdout",
          "text": [
            "Apple\n",
            "20\n",
            "Banana\n",
            "20\n"
          ]
        }
      ]
    },
    {
      "cell_type": "code",
      "source": [
        "num1 = 10\n",
        "num2 = 3\n",
        "print(\"%d / %d = %.3f\" %(num1, num2, num1 / num2))"
      ],
      "metadata": {
        "colab": {
          "base_uri": "https://localhost:8080/"
        },
        "id": "BYEFuEmUVw61",
        "outputId": "10e9b51d-2735-4a2b-823c-8504705f87df"
      },
      "execution_count": null,
      "outputs": [
        {
          "output_type": "stream",
          "name": "stdout",
          "text": [
            "10 / 3 = 3.333\n"
          ]
        }
      ]
    },
    {
      "cell_type": "code",
      "source": [
        "name = \"Apple\"\n",
        "age = 20\n",
        "weight = 50.5\n",
        "isLover = False\n",
        "\n",
        "print(type(name))\n",
        "print(type(age))\n",
        "print(type(weight))\n",
        "print(type(isLover))"
      ],
      "metadata": {
        "colab": {
          "base_uri": "https://localhost:8080/"
        },
        "id": "1mhWUDVNW2r0",
        "outputId": "e0d82da5-6ad8-4f34-cea0-4eaee804d65d"
      },
      "execution_count": null,
      "outputs": [
        {
          "output_type": "stream",
          "name": "stdout",
          "text": [
            "<class 'str'>\n",
            "<class 'int'>\n",
            "<class 'float'>\n",
            "<class 'bool'>\n"
          ]
        }
      ]
    },
    {
      "cell_type": "code",
      "source": [
        "print(\"Her name is {0}. She is {1} year's old. Her wegiht is {2}. Is she a lover? Answer is {3}\".format(name, age, weight, isLover))"
      ],
      "metadata": {
        "colab": {
          "base_uri": "https://localhost:8080/"
        },
        "id": "xrP6F-4TXU0z",
        "outputId": "0147fbcd-4a23-4ad0-8e29-870bc5ec00a1"
      },
      "execution_count": null,
      "outputs": [
        {
          "output_type": "stream",
          "name": "stdout",
          "text": [
            "Her name is Apple. She is 20 year's old. Her wegiht is 50.5. Is she a lover? Answer is False\n"
          ]
        }
      ]
    },
    {
      "cell_type": "code",
      "source": [
        "# delete the variable\n",
        "del isLover\n",
        "\n",
        "# print(isLover) \n",
        "# NameError : name 'isLover' is not defined "
      ],
      "metadata": {
        "id": "hMau29jVXV7P"
      },
      "execution_count": null,
      "outputs": []
    },
    {
      "cell_type": "markdown",
      "source": [
        "# Input"
      ],
      "metadata": {
        "id": "gzzDxRqYYKjY"
      }
    },
    {
      "cell_type": "markdown",
      "source": [
        "* gain data from the user \n",
        "* all data are treated as character (although the user type numbers)"
      ],
      "metadata": {
        "id": "szLbAXCAY3gi"
      }
    },
    {
      "cell_type": "code",
      "source": [
        "name = input()\n",
        "print(name)"
      ],
      "metadata": {
        "colab": {
          "base_uri": "https://localhost:8080/"
        },
        "id": "LfACnloOY_yV",
        "outputId": "264c5880-360d-4cd9-ba09-b191de5b73d6"
      },
      "execution_count": null,
      "outputs": [
        {
          "output_type": "stream",
          "name": "stdout",
          "text": [
            "Apple\n",
            "Apple\n"
          ]
        }
      ]
    },
    {
      "cell_type": "code",
      "source": [
        "name = input(\"Your name : \")\n",
        "print(\"Hello %s!\" %name)"
      ],
      "metadata": {
        "colab": {
          "base_uri": "https://localhost:8080/"
        },
        "id": "WddBW95OalUa",
        "outputId": "0ea97909-f8fc-4331-a421-c5e85eaaa8fd"
      },
      "execution_count": null,
      "outputs": [
        {
          "output_type": "stream",
          "name": "stdout",
          "text": [
            "Your name : Apple\n",
            "Hello Apple!\n"
          ]
        }
      ]
    },
    {
      "cell_type": "code",
      "source": [
        "# split() : split a given string or a line by specifying one of the substrings of the given string as the delimiter\n",
        "name, age, height = input(\"Write your name, age, and height : \").split(\" \")\n",
        "print(\"{} is {} years old and {} ft.\".format(name, age, height))\n"
      ],
      "metadata": {
        "colab": {
          "base_uri": "https://localhost:8080/"
        },
        "id": "ON24lMYIa3G0",
        "outputId": "3e252df3-6f97-40e5-816f-087205d33fa1"
      },
      "execution_count": null,
      "outputs": [
        {
          "output_type": "stream",
          "name": "stdout",
          "text": [
            "Write your name, age, and height : Apple 20 6.1\n",
            "Apple is 20 years old and 6.1 ft.\n"
          ]
        }
      ]
    },
    {
      "cell_type": "code",
      "source": [
        "name, age, height = input(\"Write your name, age, and height : \").split(\",\")\n",
        "print(\"{} is {} years old and {} ft.\".format(name, age, height))"
      ],
      "metadata": {
        "colab": {
          "base_uri": "https://localhost:8080/"
        },
        "id": "Z0b6AbFZb1Z_",
        "outputId": "004b1086-9e8e-42d5-9a9f-bbf0db7efadc"
      },
      "execution_count": null,
      "outputs": [
        {
          "output_type": "stream",
          "name": "stdout",
          "text": [
            "Write your name, age, and height : Apple, 20, 6.1\n",
            "Apple is  20 years old and  6.1 ft.\n"
          ]
        }
      ]
    },
    {
      "cell_type": "code",
      "source": [
        "# example\n",
        "# Get grades for English, Math, and Science\n",
        "# Then calculate the total and average scores \n",
        "\n",
        "print(\"This is average calculator\")\n",
        "eng, math, sci = input(\"Please put down your English, Math, and Science scores : \").split(\" \")\n",
        "\n",
        "total = int(eng) + int(math) + int(sci)\n",
        "avg = float(total / 3)\n",
        "\n",
        "print(\"The total score is %.2f\" %total)\n",
        "print(\"The average socre is %.2f\" %avg)"
      ],
      "metadata": {
        "colab": {
          "base_uri": "https://localhost:8080/"
        },
        "id": "3Dnult_vb6Ym",
        "outputId": "7463e71e-ae4e-40ec-c602-3d8cd45b90d1"
      },
      "execution_count": null,
      "outputs": [
        {
          "output_type": "stream",
          "name": "stdout",
          "text": [
            "This is average calculator\n",
            "Please put down your English, Math, and Science scores : 90 81 77\n",
            "The total score is 248.00\n",
            "The average socre is 82.67\n"
          ]
        }
      ]
    },
    {
      "cell_type": "markdown",
      "source": [
        "# String "
      ],
      "metadata": {
        "id": "vQWRHl1Kcl9T"
      }
    },
    {
      "cell_type": "code",
      "source": [
        "str1 = \"Hello World\"\n",
        "str2 = \"Hello World Hello Python\"\n",
        "str3 = '''Hello \n",
        "World\n",
        "Hello \n",
        "Python\n",
        "'''\n",
        "\n",
        "print(str1)\n",
        "print(str2)\n",
        "print(str3)"
      ],
      "metadata": {
        "colab": {
          "base_uri": "https://localhost:8080/"
        },
        "id": "nuSmzKJzdTKU",
        "outputId": "d8b02fae-29b9-46f6-c5fe-756e34b35aa7"
      },
      "execution_count": null,
      "outputs": [
        {
          "output_type": "stream",
          "name": "stdout",
          "text": [
            "Hello World\n",
            "Hello World Hello Python\n",
            "Hello \n",
            "World\n",
            "Hello \n",
            "Python\n",
            "\n"
          ]
        }
      ]
    },
    {
      "cell_type": "markdown",
      "source": [
        "### Index"
      ],
      "metadata": {
        "id": "bANxHh2hdpDn"
      }
    },
    {
      "cell_type": "code",
      "source": [
        "# python index starts from 0\n",
        "print(str1[0])\n",
        "print(str1[1])\n",
        "print(str3[6])\n",
        "print(str3[7])"
      ],
      "metadata": {
        "colab": {
          "base_uri": "https://localhost:8080/"
        },
        "id": "yze_LMyXdzzO",
        "outputId": "1a2619e2-2d36-4f16-9aca-7c2768d07148"
      },
      "execution_count": null,
      "outputs": [
        {
          "output_type": "stream",
          "name": "stdout",
          "text": [
            "H\n",
            "e\n",
            "\n",
            "\n",
            "W\n"
          ]
        }
      ]
    },
    {
      "cell_type": "code",
      "source": [
        "print(str2[0:8])\n",
        "print(str2[7:11])\n",
        "print(str2[6:-1]) # negative indicates the end \n",
        "print(str2[:15])\n",
        "print(str2[12:])\n",
        "print(str2[::3]) # return index with the multiple of 3"
      ],
      "metadata": {
        "colab": {
          "base_uri": "https://localhost:8080/"
        },
        "id": "n_RxWuEkd_d-",
        "outputId": "d2f9db4e-228e-4ec0-9095-e15a07c2cb40"
      },
      "execution_count": null,
      "outputs": [
        {
          "output_type": "stream",
          "name": "stdout",
          "text": [
            "Hello Wo\n",
            "orld\n",
            "World Hello Pytho\n",
            "Hello World Hel\n",
            "Hello Python\n",
            "HlWlHlPh\n"
          ]
        }
      ]
    },
    {
      "cell_type": "markdown",
      "source": [
        "### len()\n",
        "\n",
        "* returns the length of the string"
      ],
      "metadata": {
        "id": "XP6sfsNHe0x3"
      }
    },
    {
      "cell_type": "code",
      "source": [
        "len(str2)"
      ],
      "metadata": {
        "colab": {
          "base_uri": "https://localhost:8080/"
        },
        "id": "KGLVFn4AeVMB",
        "outputId": "c8fd14a1-22ed-4048-e227-d598d960ab23"
      },
      "execution_count": null,
      "outputs": [
        {
          "output_type": "execute_result",
          "data": {
            "text/plain": [
              "27"
            ]
          },
          "metadata": {},
          "execution_count": 57
        }
      ]
    },
    {
      "cell_type": "code",
      "source": [
        "len(str3)"
      ],
      "metadata": {
        "colab": {
          "base_uri": "https://localhost:8080/"
        },
        "id": "s4m_D-TuesrO",
        "outputId": "e9378c54-902b-4bf1-a4a5-4b6312da9ace"
      },
      "execution_count": null,
      "outputs": [
        {
          "output_type": "execute_result",
          "data": {
            "text/plain": [
              "27"
            ]
          },
          "metadata": {},
          "execution_count": 58
        }
      ]
    },
    {
      "cell_type": "markdown",
      "source": [
        "### count() \n",
        "* returns the frequency of appearance of parameter"
      ],
      "metadata": {
        "id": "PuqMKkiFe9kD"
      }
    },
    {
      "cell_type": "code",
      "source": [
        "print(str2.count(\"Hello\"))\n",
        "print(str2.count(\"World\"))"
      ],
      "metadata": {
        "colab": {
          "base_uri": "https://localhost:8080/"
        },
        "id": "Aw2SPw44evi3",
        "outputId": "e7e578ac-b7ed-48b3-83c0-26387f09e309"
      },
      "execution_count": null,
      "outputs": [
        {
          "output_type": "stream",
          "name": "stdout",
          "text": [
            "2\n",
            "1\n"
          ]
        }
      ]
    },
    {
      "cell_type": "markdown",
      "source": [
        "### find()\n",
        "* returns the index of character that first appear "
      ],
      "metadata": {
        "id": "0OSVnrUyfLbr"
      }
    },
    {
      "cell_type": "code",
      "source": [
        "print(str2.find(\"e\"))\n",
        "print(str2.find(\"q\")) # if does not exist, returns -1"
      ],
      "metadata": {
        "colab": {
          "base_uri": "https://localhost:8080/"
        },
        "id": "ro6jHwwDfTZP",
        "outputId": "8a29e5f5-29c1-4e89-9b7a-aa4b11602ea0"
      },
      "execution_count": null,
      "outputs": [
        {
          "output_type": "stream",
          "name": "stdout",
          "text": [
            "1\n",
            "-1\n"
          ]
        }
      ]
    },
    {
      "cell_type": "markdown",
      "source": [
        "### index()\n",
        "returns the index of character that first appears "
      ],
      "metadata": {
        "id": "5FIcwa6Hfhy-"
      }
    },
    {
      "cell_type": "code",
      "source": [
        "print(str2.index(\"e\"))\n",
        "# print(str2.index(\"q\")) # if not exist, then error\n",
        "# ValueError: substring not found"
      ],
      "metadata": {
        "colab": {
          "base_uri": "https://localhost:8080/"
        },
        "id": "OP79RzBofwlY",
        "outputId": "20c3ab5a-37d6-4705-a288-2d04abaace64"
      },
      "execution_count": null,
      "outputs": [
        {
          "output_type": "stream",
          "name": "stdout",
          "text": [
            "1\n"
          ]
        }
      ]
    },
    {
      "cell_type": "markdown",
      "source": [
        "### replace()"
      ],
      "metadata": {
        "id": "PXVPMn4Af4aM"
      }
    },
    {
      "cell_type": "code",
      "source": [
        "print(str2.replace(\"World\", \"Python\"))"
      ],
      "metadata": {
        "colab": {
          "base_uri": "https://localhost:8080/"
        },
        "id": "cGIeFvEpgH2P",
        "outputId": "905c2073-4425-4c43-c194-f1088c8a8372"
      },
      "execution_count": null,
      "outputs": [
        {
          "output_type": "stream",
          "name": "stdout",
          "text": [
            "Hello Python Hello Python\n"
          ]
        }
      ]
    },
    {
      "cell_type": "markdown",
      "source": [
        "### upper(), lower()"
      ],
      "metadata": {
        "id": "SyCKYqAegLzj"
      }
    },
    {
      "cell_type": "code",
      "source": [
        "print(str2.upper())\n",
        "print(str2.lower())"
      ],
      "metadata": {
        "colab": {
          "base_uri": "https://localhost:8080/"
        },
        "id": "CjQTXs4YgQEx",
        "outputId": "298bb2c4-68a7-4800-8a74-34897b175606"
      },
      "execution_count": null,
      "outputs": [
        {
          "output_type": "stream",
          "name": "stdout",
          "text": [
            "HELLO WORLD HELLO PYTHON\n",
            "hello world hello python\n"
          ]
        }
      ]
    },
    {
      "cell_type": "markdown",
      "source": [
        "### strip()\n",
        "* remove the spaces at the end or the start\n",
        "\n",
        "* lstrip() : remove the starting space\n",
        "* rstrip() : remove the end space"
      ],
      "metadata": {
        "id": "Be0_U0zUgSM7"
      }
    },
    {
      "cell_type": "code",
      "source": [
        "str4 = \"      Hello World       \"\n",
        "print(str4)\n",
        "print(str4.lstrip())\n",
        "print(str4.rstrip())\n",
        "print(str4.strip()) "
      ],
      "metadata": {
        "colab": {
          "base_uri": "https://localhost:8080/"
        },
        "id": "Ohr7fyIrgsxs",
        "outputId": "8f0b304b-f698-43f8-a59f-08dc33771d38"
      },
      "execution_count": null,
      "outputs": [
        {
          "output_type": "stream",
          "name": "stdout",
          "text": [
            "      Hello World       \n",
            "Hello World       \n",
            "      Hello World\n",
            "Hello World\n"
          ]
        }
      ]
    },
    {
      "cell_type": "markdown",
      "source": [
        "### join()\n",
        "* add specific character into the string"
      ],
      "metadata": {
        "id": "jDNE1Y7jg-K8"
      }
    },
    {
      "cell_type": "code",
      "source": [
        "str5 = \"hello\"\n",
        "print(\"❤️\".join(str5))"
      ],
      "metadata": {
        "colab": {
          "base_uri": "https://localhost:8080/"
        },
        "id": "YERiUkjMhFkN",
        "outputId": "f929c922-d9f2-4544-f02a-b312e7959f29"
      },
      "execution_count": null,
      "outputs": [
        {
          "output_type": "stream",
          "name": "stdout",
          "text": [
            "h❤️e❤️l❤️l❤️o\n"
          ]
        }
      ]
    },
    {
      "cell_type": "markdown",
      "source": [
        "# List \n"
      ],
      "metadata": {
        "id": "8NAJBAcQhOFU"
      }
    },
    {
      "cell_type": "markdown",
      "source": [
        "* separate the data by , and save them into []\n",
        "* different type of data can be stored in the same list "
      ],
      "metadata": {
        "id": "1AyusSG5hlP0"
      }
    },
    {
      "cell_type": "code",
      "source": [
        "li1 = [1, 3, 5, 7]\n",
        "print(li1)\n",
        "\n",
        "li2 = [\"Apple\", \"Banana\", \"Cookie\"]\n",
        "print(li2)\n",
        "\n",
        "li3 = [1, \"1\", \"Apple\"]\n",
        "print(li3)\n",
        "\n",
        "li4 = [1, 2, \"3\", [\"Apple\", \"Banana\"], True]\n",
        "print(li4)"
      ],
      "metadata": {
        "colab": {
          "base_uri": "https://localhost:8080/"
        },
        "id": "-LoTJ0LxoFur",
        "outputId": "1ae06cfa-9727-4857-aad9-0f1b67919ad2"
      },
      "execution_count": null,
      "outputs": [
        {
          "output_type": "stream",
          "name": "stdout",
          "text": [
            "[1, 3, 5, 7]\n",
            "['Apple', 'Banana', 'Cookie']\n",
            "[1, '1', 'Apple']\n",
            "[1, 2, '3', ['Apple', 'Banana'], True]\n"
          ]
        }
      ]
    },
    {
      "cell_type": "code",
      "source": [
        "# list indexing \n",
        "print(li1[0])\n",
        "print(li4[:4])\n",
        "print(li1[0] + li1[1])\n",
        "print(li4[3][-1])"
      ],
      "metadata": {
        "colab": {
          "base_uri": "https://localhost:8080/"
        },
        "id": "UQ-cuOdDoY__",
        "outputId": "260caa5b-a986-44a8-f678-f300c76bcd2c"
      },
      "execution_count": null,
      "outputs": [
        {
          "output_type": "stream",
          "name": "stdout",
          "text": [
            "1\n",
            "[1, 2, '3', ['Apple', 'Banana']]\n",
            "4\n",
            "Banana\n"
          ]
        }
      ]
    },
    {
      "cell_type": "code",
      "source": [
        "li5 = [10, 20, 30]\n",
        "li6 = [40, 50, 60]\n",
        "\n",
        "print(li5 + li6)\n",
        "print(li5 * 3)\n",
        "li6[1] = '🖤'\n",
        "# print(li6[0] + li6[1]) TypeError: unsupported operand type(s) for +: 'int' and 'str'\n",
        "print(li6[0] + li6[2])"
      ],
      "metadata": {
        "colab": {
          "base_uri": "https://localhost:8080/"
        },
        "id": "Wrsji4DronG3",
        "outputId": "777dd859-e76b-4569-bc74-4f1689a6d0df"
      },
      "execution_count": null,
      "outputs": [
        {
          "output_type": "stream",
          "name": "stdout",
          "text": [
            "[10, 20, 30, 40, 50, 60]\n",
            "[10, 20, 30, 10, 20, 30, 10, 20, 30]\n",
            "100\n"
          ]
        }
      ]
    },
    {
      "cell_type": "code",
      "source": [
        "# modification in the list\n",
        "\n",
        "li7 = [10, 20, 30]\n",
        "li7[1] = 100\n",
        "print(li7)\n",
        "\n",
        "li7[1:2] = ['🥝', '🍇', '🍓'] \n",
        "print(li7)\n",
        "\n",
        "li7[1] = ['🥝', '🍇', '🍓']\n",
        "print(li7)\n",
        "\n",
        "print(li7[0:3])\n",
        "\n",
        "li7[1:3] = [] # delete the elements \n",
        "print(li7)\n",
        "\n",
        "del li7[0]\n",
        "print(li7)"
      ],
      "metadata": {
        "colab": {
          "base_uri": "https://localhost:8080/"
        },
        "id": "Yn3oOujcp00h",
        "outputId": "5cf00048-5e13-407e-8796-3d277947944d"
      },
      "execution_count": null,
      "outputs": [
        {
          "output_type": "stream",
          "name": "stdout",
          "text": [
            "[10, 100, 30]\n",
            "[10, '🥝', '🍇', '🍓', 30]\n",
            "[10, ['🥝', '🍇', '🍓'], '🍇', '🍓', 30]\n",
            "[10, ['🥝', '🍇', '🍓'], '🍇']\n",
            "[10, '🍓', 30]\n",
            "['🍓', 30]\n"
          ]
        }
      ]
    },
    {
      "cell_type": "markdown",
      "source": [
        "### list functions"
      ],
      "metadata": {
        "id": "Bp6SkRESq2HI"
      }
    },
    {
      "cell_type": "code",
      "source": [
        "# append() : add the element in last \n",
        "\n",
        "li8 = [10, 20, 30]\n",
        "print(li8)\n",
        "\n",
        "li8.append(40)\n",
        "print(li8)"
      ],
      "metadata": {
        "colab": {
          "base_uri": "https://localhost:8080/"
        },
        "id": "Wuu5ObHeq6_3",
        "outputId": "0193e968-6af9-4995-e034-5d699ad18541"
      },
      "execution_count": null,
      "outputs": [
        {
          "output_type": "stream",
          "name": "stdout",
          "text": [
            "[10, 20, 30]\n",
            "[10, 20, 30, 40]\n"
          ]
        }
      ]
    },
    {
      "cell_type": "code",
      "source": [
        "# pop() : return the last element and delete it \n",
        "\n",
        "li9 = [10, 20, 30, 40]\n",
        "print(li9)\n",
        "\n",
        "print(li9.pop())\n",
        "print(li9)"
      ],
      "metadata": {
        "colab": {
          "base_uri": "https://localhost:8080/"
        },
        "id": "kiTL5sElrHOv",
        "outputId": "d88ae472-eafd-4550-e87a-9c270a8332ca"
      },
      "execution_count": null,
      "outputs": [
        {
          "output_type": "stream",
          "name": "stdout",
          "text": [
            "[10, 20, 30, 40]\n",
            "40\n",
            "[10, 20, 30]\n"
          ]
        }
      ]
    },
    {
      "cell_type": "code",
      "source": [
        "# remove() : delete the data that first appeared \n",
        "\n",
        "li10 = [10, 20, 30, 40, 20, 10]\n",
        "li10.remove(10)\n",
        "print(li10)"
      ],
      "metadata": {
        "colab": {
          "base_uri": "https://localhost:8080/"
        },
        "id": "RXeL5XgPrY2x",
        "outputId": "123af185-a002-452f-c789-1131ea545a80"
      },
      "execution_count": null,
      "outputs": [
        {
          "output_type": "stream",
          "name": "stdout",
          "text": [
            "[20, 30, 40, 20, 10]\n"
          ]
        }
      ]
    },
    {
      "cell_type": "code",
      "source": [
        "# insert () : add data in specific place\n",
        "\n",
        "li11 = [10, 20, 30]\n",
        "li11.insert(1, 100)\n",
        "print(li11)\n",
        "\n",
        "li11.insert(2,(500, 400))\n",
        "print(li11)"
      ],
      "metadata": {
        "colab": {
          "base_uri": "https://localhost:8080/"
        },
        "id": "g3Eek4drrsEw",
        "outputId": "f41120f4-eaa5-4e1c-9189-3b5001581101"
      },
      "execution_count": null,
      "outputs": [
        {
          "output_type": "stream",
          "name": "stdout",
          "text": [
            "[10, 100, 20, 30]\n",
            "[10, 100, (500, 400), 20, 30]\n"
          ]
        }
      ]
    },
    {
      "cell_type": "code",
      "source": [
        "# index() : return the index if exists \n",
        "print(li11.index(10))\n",
        "# print(li11.index(80)) #ValueError: 80 is not in list"
      ],
      "metadata": {
        "colab": {
          "base_uri": "https://localhost:8080/"
        },
        "id": "YDdHab88sAs8",
        "outputId": "d0b720d6-1948-499b-cfbb-27e0baf8fd97"
      },
      "execution_count": null,
      "outputs": [
        {
          "output_type": "stream",
          "name": "stdout",
          "text": [
            "0\n"
          ]
        }
      ]
    },
    {
      "cell_type": "code",
      "source": [
        "# reverse() : reverse the order of the list\n",
        "li12 = [10, 20, 30, 40, 50]\n",
        "li12.reverse()\n",
        "print(li12)"
      ],
      "metadata": {
        "colab": {
          "base_uri": "https://localhost:8080/"
        },
        "id": "dOcfmQZIsSrH",
        "outputId": "ba305333-aa5b-4686-d559-867aae917c21"
      },
      "execution_count": null,
      "outputs": [
        {
          "output_type": "stream",
          "name": "stdout",
          "text": [
            "[50, 40, 30, 20, 10]\n"
          ]
        }
      ]
    },
    {
      "cell_type": "code",
      "source": [
        "# sort() : order the list in alphabetically or increasing\n",
        "\n",
        "li13 = [\"cookie\", \"egg\", \"donut\", \"apple\", \"banana\"]\n",
        "li13.sort()\n",
        "print(li13)\n",
        "\n",
        "li13.sort(reverse=True)\n",
        "print(li13)\n",
        "\n",
        "li14 = ['4', '6', '9', \"apple\", \"cookie\", \"&\", \"%\", \"egg\", '100']\n",
        "li14.sort()\n",
        "print(li14)"
      ],
      "metadata": {
        "colab": {
          "base_uri": "https://localhost:8080/"
        },
        "id": "fbzMKW2HspKk",
        "outputId": "29c96b07-3d44-4c73-ad7e-bf24377ed6f2"
      },
      "execution_count": null,
      "outputs": [
        {
          "output_type": "stream",
          "name": "stdout",
          "text": [
            "['apple', 'banana', 'cookie', 'donut', 'egg']\n",
            "['egg', 'donut', 'cookie', 'banana', 'apple']\n",
            "['%', '&', '100', '4', '6', '9', 'apple', 'cookie', 'egg']\n"
          ]
        }
      ]
    },
    {
      "cell_type": "code",
      "source": [
        "# count() : return the number of appearance \n",
        "\n",
        "li15 = [1, 1, 2, 2, 2, 2, 5]\n",
        "print(li15.count(1))\n",
        "print(li15.count(2))\n",
        "print(li15.count(5))"
      ],
      "metadata": {
        "colab": {
          "base_uri": "https://localhost:8080/"
        },
        "id": "ZHb90sqGtPDP",
        "outputId": "527a3c84-c1ed-4f5a-9d4e-7667e2b61ed4"
      },
      "execution_count": null,
      "outputs": [
        {
          "output_type": "stream",
          "name": "stdout",
          "text": [
            "2\n",
            "4\n",
            "1\n"
          ]
        }
      ]
    },
    {
      "cell_type": "markdown",
      "source": [
        "# Tuple"
      ],
      "metadata": {
        "id": "EC7uei7wtnuP"
      }
    },
    {
      "cell_type": "markdown",
      "source": [
        "* share similar characteristics to list but use ()\n",
        "* cannot eidt or delete "
      ],
      "metadata": {
        "id": "GC7od8RcuGit"
      }
    },
    {
      "cell_type": "code",
      "source": [
        "tu1 = ()\n",
        "print(tu1)\n",
        "\n",
        "tu2 = (1, 3, 5, 7)\n",
        "print(tu2)\n",
        "print(tu2[1])\n",
        "\n",
        "tu3 = 1, 3, 5, 6\n",
        "print(tu3)\n",
        "\n",
        "tu4 = ('apple', 'banana', ('🍔', '🍟'))\n",
        "print(tu4)\n",
        "\n",
        "tu5 = ('apple', 'banana', ['🍔', '🍟'])  # can insert the list inside of the tuple\n",
        "print(tu5)\n",
        "print(type(tu5))"
      ],
      "metadata": {
        "colab": {
          "base_uri": "https://localhost:8080/"
        },
        "id": "cUtm__VvuM2E",
        "outputId": "6af7fa63-7c4b-4e22-f12d-93e85afd4a74"
      },
      "execution_count": null,
      "outputs": [
        {
          "output_type": "stream",
          "name": "stdout",
          "text": [
            "()\n",
            "(1, 3, 5, 7)\n",
            "3\n",
            "(1, 3, 5, 6)\n",
            "('apple', 'banana', ('🍔', '🍟'))\n",
            "('apple', 'banana', ['🍔', '🍟'])\n",
            "<class 'tuple'>\n"
          ]
        }
      ]
    },
    {
      "cell_type": "code",
      "source": [
        "tu6 = (1, 2, \"apple\", \"banana\")\n",
        "\n",
        "# indexing & slicing \n",
        "print(tu6[0])\n",
        "print(tu6[:-1])\n",
        "print(tu6[::2])\n",
        "\n",
        "print(tu6 + (30, 40))\n",
        "\n",
        "print(tu6 * 3)\n",
        "\n",
        "print(len(tu6))\n"
      ],
      "metadata": {
        "colab": {
          "base_uri": "https://localhost:8080/"
        },
        "id": "Vz2qpSsouUvA",
        "outputId": "897285f6-38cd-4f1c-c5a9-75fe19c8a1e2"
      },
      "execution_count": null,
      "outputs": [
        {
          "output_type": "stream",
          "name": "stdout",
          "text": [
            "1\n",
            "(1, 2, 'apple')\n",
            "(1, 'apple')\n",
            "(1, 2, 'apple', 'banana', 30, 40)\n",
            "(1, 2, 'apple', 'banana', 1, 2, 'apple', 'banana', 1, 2, 'apple', 'banana')\n",
            "4\n"
          ]
        }
      ]
    },
    {
      "cell_type": "markdown",
      "source": [
        "# If-Else"
      ],
      "metadata": {
        "id": "KAUr5gzjvk3M"
      }
    },
    {
      "cell_type": "code",
      "source": [
        "print(10 > 5)\n",
        "print(10 < 5)\n",
        "print (10>= 5)\n",
        "print(10 <= 5)\n",
        "print(10 != 5)\n",
        "print(10 == 5)"
      ],
      "metadata": {
        "colab": {
          "base_uri": "https://localhost:8080/"
        },
        "id": "5LVCFY09vt6a",
        "outputId": "aa3afc6d-df43-4a35-e831-b3fc393fd766"
      },
      "execution_count": null,
      "outputs": [
        {
          "output_type": "stream",
          "name": "stdout",
          "text": [
            "True\n",
            "False\n",
            "True\n",
            "False\n",
            "True\n",
            "False\n"
          ]
        }
      ]
    },
    {
      "cell_type": "code",
      "source": [
        "# If\n",
        "\n",
        "age = int(input(\"What is your age? \"))\n",
        "\n",
        "print(\"Your age is \", age)\n",
        "if age >= 21:\n",
        "  print(\"You are eligible to buy alcohol.\")"
      ],
      "metadata": {
        "colab": {
          "base_uri": "https://localhost:8080/"
        },
        "id": "fJCNVgaUwRjP",
        "outputId": "1541edca-aaa5-4a84-929b-54bf6e162131"
      },
      "execution_count": null,
      "outputs": [
        {
          "output_type": "stream",
          "name": "stdout",
          "text": [
            "What is your age? 21\n",
            "Your age is  21\n",
            "You are eligible to by alcohol.\n"
          ]
        }
      ]
    },
    {
      "cell_type": "code",
      "source": [
        "# if-else\n",
        "age = int(input(\"What is your age? \"))\n",
        "\n",
        "print(\"Your age is \", age)\n",
        "if age >= 21:\n",
        "  print(\"You are eligible to buy alcohol.\")\n",
        "else: # age < 21\n",
        "  print(\"You are NOT eligible to buy alcohol.\")"
      ],
      "metadata": {
        "colab": {
          "base_uri": "https://localhost:8080/"
        },
        "id": "Z_XskA0Gwvq-",
        "outputId": "e1371b45-fbf5-427b-8d8e-6c75fec667a3"
      },
      "execution_count": null,
      "outputs": [
        {
          "output_type": "stream",
          "name": "stdout",
          "text": [
            "What is your age? 18\n",
            "Your age is  18\n",
            "You are NOT eligible to buy alcohol.\n"
          ]
        }
      ]
    },
    {
      "cell_type": "code",
      "source": [
        "#if-elif-else\n",
        "\n",
        "score = int(input(\"What is your score on exam? \"))\n",
        "\n",
        "print(\"Your score is \", score)\n",
        "if score >= 90:\n",
        "  print(\"Your grade is A\")\n",
        "elif score >= 80:\n",
        "  print(\"Your grade is B\")\n",
        "elif score >= 70:\n",
        "  print(\"Your grade is C\")\n",
        "elif score >= 60:\n",
        "  print(\"Your grade is D\")\n",
        "else: # score < 60\n",
        "  print(\"You failed the exam.\")"
      ],
      "metadata": {
        "colab": {
          "base_uri": "https://localhost:8080/"
        },
        "id": "oU-MYuO6xCaJ",
        "outputId": "ea22f4a9-cdcb-49ce-9eec-243722ee8e77"
      },
      "execution_count": null,
      "outputs": [
        {
          "output_type": "stream",
          "name": "stdout",
          "text": [
            "What is your score on exam? 55\n",
            "Your score is  55\n",
            "You failed the exam.\n"
          ]
        }
      ]
    },
    {
      "cell_type": "code",
      "source": [
        "# AND\n",
        "userid = input(\"Type your ID : \")\n",
        "userpw = input(\"Type your Password :\")\n",
        "\n",
        "if userid == \"admin\" and userpw == \"1234\":\n",
        "  print(\"You successfully logged in\")\n",
        "else:\n",
        "  print(\"Please check your ID or Password\")"
      ],
      "metadata": {
        "colab": {
          "base_uri": "https://localhost:8080/"
        },
        "id": "mHCHsIQgxvSD",
        "outputId": "1c7629f9-1254-4841-8a51-54069cd21b87"
      },
      "execution_count": null,
      "outputs": [
        {
          "output_type": "stream",
          "name": "stdout",
          "text": [
            "Type your ID : hellp\n",
            "Type your Password :1234\n",
            "Please check your ID or Password\n"
          ]
        }
      ]
    },
    {
      "cell_type": "code",
      "source": [
        "# OR\n",
        "position = input(\"What is your position at UW? \")\n",
        "\n",
        "if position == \"student\" or position == \"faculty\":\n",
        "  print(\"Welcome Huskies\")\n",
        "elif position == \"alumni\":\n",
        "  print(\"Welcome Huskies alumni\")\n",
        "else:\n",
        "  print(\"You are ineligible to access UW resources\")"
      ],
      "metadata": {
        "colab": {
          "base_uri": "https://localhost:8080/"
        },
        "id": "NToyO286yN6a",
        "outputId": "c2edeca0-b2ff-44be-9886-efccec22b645"
      },
      "execution_count": null,
      "outputs": [
        {
          "output_type": "stream",
          "name": "stdout",
          "text": [
            "What is your position at UW? stu\n",
            "You are ineligible to access UW resources\n"
          ]
        }
      ]
    },
    {
      "cell_type": "markdown",
      "source": [
        "# While loop"
      ],
      "metadata": {
        "id": "4bi_m1yey3MJ"
      }
    },
    {
      "cell_type": "markdown",
      "source": [
        "* if condition is true, then repeat "
      ],
      "metadata": {
        "id": "rZLhuRaizXf-"
      }
    },
    {
      "cell_type": "code",
      "source": [
        "num = 10\n",
        "\n",
        "num += 1\n",
        "print(num)\n",
        "\n",
        "num -= 1\n",
        "print(num)\n",
        "\n",
        "num *= 10\n",
        "print(num)\n",
        "\n",
        "num /= 10 \n",
        "print(num)\n",
        "\n",
        "num %= 2 # residual\n",
        "print(num)"
      ],
      "metadata": {
        "colab": {
          "base_uri": "https://localhost:8080/"
        },
        "id": "Z8Vh853tzAlX",
        "outputId": "5731ef58-28aa-4ad2-c1a9-3c0efa963cd5"
      },
      "execution_count": null,
      "outputs": [
        {
          "output_type": "stream",
          "name": "stdout",
          "text": [
            "11\n",
            "10\n",
            "100\n",
            "10.0\n",
            "0.0\n"
          ]
        }
      ]
    },
    {
      "cell_type": "code",
      "source": [
        "i = 1\n",
        "\n",
        "while i <= 5:\n",
        "  print(\"Hello Python\")\n",
        "  i += 1\n",
        "  \n",
        "print(\"current i is : {}\".format(i))"
      ],
      "metadata": {
        "colab": {
          "base_uri": "https://localhost:8080/"
        },
        "id": "nh8z11gszVD5",
        "outputId": "e3e77cab-3b10-4d9f-c147-65a3f9b5c5f4"
      },
      "execution_count": null,
      "outputs": [
        {
          "output_type": "stream",
          "name": "stdout",
          "text": [
            "Hello Python\n",
            "Hello Python\n",
            "Hello Python\n",
            "Hello Python\n",
            "Hello Python\n",
            "current i is : 6\n"
          ]
        }
      ]
    },
    {
      "cell_type": "code",
      "source": [
        "# example\n",
        "# add 1 to 10\n",
        "\n",
        "i = 1\n",
        "sum = 0\n",
        "\n",
        "while i <= 10:\n",
        "  sum += i\n",
        "  i += 1\n",
        "\n",
        "print(sum)"
      ],
      "metadata": {
        "colab": {
          "base_uri": "https://localhost:8080/"
        },
        "id": "qOvfWdPCzrg1",
        "outputId": "f6db36fd-f8be-40cc-da10-9e09c0e59cb2"
      },
      "execution_count": null,
      "outputs": [
        {
          "output_type": "stream",
          "name": "stdout",
          "text": [
            "55\n"
          ]
        }
      ]
    },
    {
      "cell_type": "code",
      "source": [
        "# example \n",
        "# generate multiplication table with the number user asks for \n",
        "\n",
        "num = int(input(\"Which multiplication table do you need? \"))\n",
        "num2 = 0\n",
        "multiple = 0\n",
        "\n",
        "while num2 <= 20:\n",
        "  multiple = num * num2\n",
        "  print(\"%d x %d = %d\" %(num, num2, multiple))\n",
        "  num2 += 1"
      ],
      "metadata": {
        "colab": {
          "base_uri": "https://localhost:8080/"
        },
        "id": "iEotMzHFz-3q",
        "outputId": "eb8f5974-f533-4d9f-adb1-118817ecb0b4"
      },
      "execution_count": null,
      "outputs": [
        {
          "output_type": "stream",
          "name": "stdout",
          "text": [
            "Which multiplication table do you need? 5\n",
            "5 x 0 = 0\n",
            "5 x 1 = 5\n",
            "5 x 2 = 10\n",
            "5 x 3 = 15\n",
            "5 x 4 = 20\n",
            "5 x 5 = 25\n",
            "5 x 6 = 30\n",
            "5 x 7 = 35\n",
            "5 x 8 = 40\n",
            "5 x 9 = 45\n",
            "5 x 10 = 50\n",
            "5 x 11 = 55\n",
            "5 x 12 = 60\n",
            "5 x 13 = 65\n",
            "5 x 14 = 70\n",
            "5 x 15 = 75\n",
            "5 x 16 = 80\n",
            "5 x 17 = 85\n",
            "5 x 18 = 90\n",
            "5 x 19 = 95\n",
            "5 x 20 = 100\n"
          ]
        }
      ]
    },
    {
      "cell_type": "markdown",
      "source": [
        "# for loop "
      ],
      "metadata": {
        "id": "3H0CjWVU01xp"
      }
    },
    {
      "cell_type": "code",
      "source": [
        "for i in range(10):\n",
        "  print(i)"
      ],
      "metadata": {
        "colab": {
          "base_uri": "https://localhost:8080/"
        },
        "id": "6bDao75G08bi",
        "outputId": "4e3ce5da-0b68-4108-9940-0f28d22856c4"
      },
      "execution_count": null,
      "outputs": [
        {
          "output_type": "stream",
          "name": "stdout",
          "text": [
            "0\n",
            "1\n",
            "2\n",
            "3\n",
            "4\n",
            "5\n",
            "6\n",
            "7\n",
            "8\n",
            "9\n"
          ]
        }
      ]
    },
    {
      "cell_type": "code",
      "source": [
        "for i in range(2,11,2):\n",
        "  print(i)"
      ],
      "metadata": {
        "colab": {
          "base_uri": "https://localhost:8080/"
        },
        "id": "SeJRJlDJ1HQR",
        "outputId": "afcf3c93-4846-46a9-98d9-81ba884f9d40"
      },
      "execution_count": null,
      "outputs": [
        {
          "output_type": "stream",
          "name": "stdout",
          "text": [
            "2\n",
            "4\n",
            "6\n",
            "8\n",
            "10\n"
          ]
        }
      ]
    },
    {
      "cell_type": "code",
      "source": [
        "for i in range(10):\n",
        "  print(i, end=' ')"
      ],
      "metadata": {
        "colab": {
          "base_uri": "https://localhost:8080/"
        },
        "id": "lyqT_rTT1LUJ",
        "outputId": "029da16b-d80d-4edc-cabd-1bd95933eef6"
      },
      "execution_count": null,
      "outputs": [
        {
          "output_type": "stream",
          "name": "stdout",
          "text": [
            "0 1 2 3 4 5 6 7 8 9 "
          ]
        }
      ]
    },
    {
      "cell_type": "code",
      "source": [
        "# example\n",
        "# Q: find the sum of even number from 1 to 100\n",
        "\n",
        "sum = 0 \n",
        "\n",
        "for i in range(2, 101, 2):\n",
        "  sum += i \n",
        "\n",
        "print(sum)"
      ],
      "metadata": {
        "colab": {
          "base_uri": "https://localhost:8080/"
        },
        "id": "OAGC1snF1iM9",
        "outputId": "7675eb3d-2f1f-4edb-825b-e2e6d9dcc4b7"
      },
      "execution_count": null,
      "outputs": [
        {
          "output_type": "stream",
          "name": "stdout",
          "text": [
            "2550\n"
          ]
        }
      ]
    },
    {
      "cell_type": "code",
      "source": [
        "# example\n",
        "# Q: find the sum of even number from 1 to 100 using if else instead of range(2, 101, 2)\n",
        "\n",
        "sum = 0\n",
        "\n",
        "for i in range(1, 101):\n",
        "  if (i%2) == 0:\n",
        "    sum += i\n",
        "\n",
        "print(sum)"
      ],
      "metadata": {
        "colab": {
          "base_uri": "https://localhost:8080/"
        },
        "id": "TdpZQI7v1smy",
        "outputId": "7650b7e5-43f4-4ce4-c0a2-5bf91e517683"
      },
      "execution_count": null,
      "outputs": [
        {
          "output_type": "stream",
          "name": "stdout",
          "text": [
            "2550\n"
          ]
        }
      ]
    },
    {
      "cell_type": "code",
      "source": [
        "# example \n",
        "# Q: find the sum of even number form 1 to 100 using while loop\n",
        "\n",
        "i = 0\n",
        "sum = 0\n",
        "\n",
        "while i <= 100:\n",
        "  if (i%2) == 0:\n",
        "    sum += i\n",
        "  i += 1\n",
        "\n",
        "print(sum)"
      ],
      "metadata": {
        "colab": {
          "base_uri": "https://localhost:8080/"
        },
        "id": "s75TnIrf2GyA",
        "outputId": "58cebf07-9ec5-4144-d171-bbc30deef4ac"
      },
      "execution_count": null,
      "outputs": [
        {
          "output_type": "stream",
          "name": "stdout",
          "text": [
            "2550\n"
          ]
        }
      ]
    },
    {
      "cell_type": "code",
      "source": [
        "for i in range(1, 6):\n",
        "  for j in range(1,6):\n",
        "    print('❤', end=' ')\n",
        "  print()"
      ],
      "metadata": {
        "colab": {
          "base_uri": "https://localhost:8080/"
        },
        "id": "ybsU0f3m2Uwv",
        "outputId": "3f349774-fef9-4d16-b453-4821df631292"
      },
      "execution_count": null,
      "outputs": [
        {
          "output_type": "stream",
          "name": "stdout",
          "text": [
            "❤ ❤ ❤ ❤ ❤ \n",
            "❤ ❤ ❤ ❤ ❤ \n",
            "❤ ❤ ❤ ❤ ❤ \n",
            "❤ ❤ ❤ ❤ ❤ \n",
            "❤ ❤ ❤ ❤ ❤ \n"
          ]
        }
      ]
    },
    {
      "cell_type": "code",
      "source": [
        "for i in range(5):  \n",
        "  for j in range(i, 5):\n",
        "    print('❤', end=' ')\n",
        "  print()"
      ],
      "metadata": {
        "colab": {
          "base_uri": "https://localhost:8080/"
        },
        "id": "fe-gaB2z3NUB",
        "outputId": "3204a61e-9390-4ace-f4b8-197bae7f8940"
      },
      "execution_count": null,
      "outputs": [
        {
          "output_type": "stream",
          "name": "stdout",
          "text": [
            "❤ ❤ ❤ ❤ ❤ \n",
            "❤ ❤ ❤ ❤ \n",
            "❤ ❤ ❤ \n",
            "❤ ❤ \n",
            "❤ \n"
          ]
        }
      ]
    },
    {
      "cell_type": "code",
      "source": [
        "for i in range(5):  \n",
        "  for j in range(i+1): \n",
        "    print('❤', end=' ')\n",
        "  print()"
      ],
      "metadata": {
        "colab": {
          "base_uri": "https://localhost:8080/"
        },
        "id": "gSAFx_Si3P4X",
        "outputId": "4fc6adeb-9823-4b53-a525-eba2b73e6864"
      },
      "execution_count": null,
      "outputs": [
        {
          "output_type": "stream",
          "name": "stdout",
          "text": [
            "❤ \n",
            "❤ ❤ \n",
            "❤ ❤ ❤ \n",
            "❤ ❤ ❤ ❤ \n",
            "❤ ❤ ❤ ❤ ❤ \n"
          ]
        }
      ]
    },
    {
      "cell_type": "markdown",
      "source": [
        "# Set"
      ],
      "metadata": {
        "id": "wH0SqSN_3WeY"
      }
    },
    {
      "cell_type": "markdown",
      "source": [
        "* the order is random when store the data in the set but not allow the repeition of the same element "
      ],
      "metadata": {
        "id": "u_B4KNRe3ndx"
      }
    },
    {
      "cell_type": "code",
      "source": [
        "s1 = {1, 3, 5, 7}\n",
        "print(s1)\n",
        "\n",
        "s2 = set([1, 3, 5, 7])\n",
        "print(s2)\n",
        "\n",
        "s3 = {1, 3, 5, 7, 9, 9, 3, 7}\n",
        "print(s3)"
      ],
      "metadata": {
        "colab": {
          "base_uri": "https://localhost:8080/"
        },
        "id": "bAlwuR-C3068",
        "outputId": "d9979795-713f-4b15-9194-9bed056f4c9f"
      },
      "execution_count": null,
      "outputs": [
        {
          "output_type": "stream",
          "name": "stdout",
          "text": [
            "{1, 3, 5, 7}\n",
            "{1, 3, 5, 7}\n",
            "{1, 3, 5, 7, 9}\n"
          ]
        }
      ]
    },
    {
      "cell_type": "code",
      "source": [
        "print(2 in s2)\n",
        "print(7 in s3)\n",
        "print(3 not in s1)"
      ],
      "metadata": {
        "colab": {
          "base_uri": "https://localhost:8080/"
        },
        "id": "0vDMmYKo4Ixb",
        "outputId": "0765befb-b4e3-4251-aa94-7210115f63d7"
      },
      "execution_count": null,
      "outputs": [
        {
          "output_type": "stream",
          "name": "stdout",
          "text": [
            "False\n",
            "True\n",
            "False\n"
          ]
        }
      ]
    },
    {
      "cell_type": "markdown",
      "source": [
        "### set functions"
      ],
      "metadata": {
        "id": "YIqizGOX4M7d"
      }
    },
    {
      "cell_type": "code",
      "source": [
        "# add() : add a single data in the set \n",
        "s1 = {100, 200}\n",
        "s1.add(150)\n",
        "print(s1)\n",
        "s1.add(20)\n",
        "print(s1)\n",
        "\n",
        "# update() : add multiple data in the set \n",
        "s2 = {10, 20, 30}\n",
        "s2.update([40, 50, 60, 20])\n",
        "print(s2)\n",
        "\n",
        "# remove() : remove the data in the set, if not exist, return error \n",
        "s2.remove(50)\n",
        "print(s2)\n",
        "#s2.remove(50)  KeyError: 50 \n",
        "\n",
        "# discard() : remove the data in the set, if not exist, does not return error  \n",
        "s2.discard(30)\n",
        "print(s2)\n",
        "s2.discard(30)  #데이터가 없어도 에러가 나지 않고 결과값이 그대로 나옴 \n",
        "print(s2)\n",
        "\n",
        "# copy() : copt the set\n",
        "s3 = {10, 20, 30}\n",
        "s4 = s3.copy()\n",
        "print(s3)\n",
        "print(s4)\n",
        "\n",
        "#s5[0] = 100  #TypeError: 'set' object does not support item assignment\n",
        "# since the order is random, there is no indexing "
      ],
      "metadata": {
        "colab": {
          "base_uri": "https://localhost:8080/"
        },
        "id": "P8IsAbr24Xqj",
        "outputId": "80949786-6231-42f4-dc24-78f28c8fd17e"
      },
      "execution_count": null,
      "outputs": [
        {
          "output_type": "stream",
          "name": "stdout",
          "text": [
            "{200, 100, 150}\n",
            "{200, 100, 20, 150}\n",
            "{40, 10, 50, 20, 60, 30}\n",
            "{40, 10, 20, 60, 30}\n",
            "{40, 10, 20, 60}\n",
            "{40, 10, 20, 60}\n",
            "{10, 20, 30}\n",
            "{10, 20, 30}\n"
          ]
        }
      ]
    },
    {
      "cell_type": "code",
      "source": [
        "s1 = {10, 20, 30}\n",
        "s2 = {30, 40, 50, 60, 70}\n",
        "\n",
        "# union : |\n",
        "result = s1 | s2 \n",
        "print(result)\n",
        "result = s1.union(s2)\n",
        "print(result)\n",
        "\n",
        "# intersecton : &\n",
        "result = s1 & s2\n",
        "print(s2)\n",
        "result = s1.intersection(s2)\n",
        "print(result)\n",
        "\n",
        "# defference : -\n",
        "result = s1 - s2\n",
        "print(result)\n",
        "result = s1.difference(s2)\n",
        "print(result)\n",
        "\n",
        "# symmetric_difference : ^  (2개 합집합에서 교집합 뺀거)\n",
        "result = s1 ^ s2\n",
        "print(result)\n",
        "result = s1.symmetric_difference(s2)\n",
        "print(result)"
      ],
      "metadata": {
        "colab": {
          "base_uri": "https://localhost:8080/"
        },
        "id": "S8E9acxo4yGV",
        "outputId": "5c20a841-ef82-43e3-bd47-7f1dea902c56"
      },
      "execution_count": null,
      "outputs": [
        {
          "output_type": "stream",
          "name": "stdout",
          "text": [
            "{70, 40, 10, 50, 20, 60, 30}\n",
            "{70, 40, 10, 50, 20, 60, 30}\n",
            "{50, 70, 40, 60, 30}\n",
            "{30}\n",
            "{10, 20}\n",
            "{10, 20}\n",
            "{50, 20, 70, 40, 10, 60}\n",
            "{50, 20, 70, 40, 10, 60}\n"
          ]
        }
      ]
    },
    {
      "cell_type": "markdown",
      "source": [
        "# Dictionary "
      ],
      "metadata": {
        "id": "5pqzUvAf5IL-"
      }
    },
    {
      "cell_type": "markdown",
      "source": [
        "* combination of key & value \n",
        "* key cannot be repeated \n",
        "* value can be repeated "
      ],
      "metadata": {
        "id": "zx83BZU85Nvm"
      }
    },
    {
      "cell_type": "code",
      "source": [
        "#{key:value}\n",
        "\n",
        "dic1 = {}\n",
        "print(dic1)\n",
        "\n",
        "dic2 = {'no':1, 'userid':'apple', 'name':'Apple', 'hp':'010-1111-1111'} \n",
        "print(dic2)"
      ],
      "metadata": {
        "colab": {
          "base_uri": "https://localhost:8080/"
        },
        "id": "G_VdWZOq5blI",
        "outputId": "16859dec-1268-4ef2-b03a-5ebe7d29f73a"
      },
      "execution_count": null,
      "outputs": [
        {
          "output_type": "stream",
          "name": "stdout",
          "text": [
            "{}\n",
            "{'no': 1, 'userid': 'apple', 'name': 'Apple', 'hp': '010-1111-1111'}\n"
          ]
        }
      ]
    },
    {
      "cell_type": "code",
      "source": [
        "print(dic2['userid'])\n",
        "print(dic2['name'])"
      ],
      "metadata": {
        "colab": {
          "base_uri": "https://localhost:8080/"
        },
        "id": "USV_V0kD5grE",
        "outputId": "7e56b3b2-a2cb-43de-cb67-54f0b9e3c4b7"
      },
      "execution_count": null,
      "outputs": [
        {
          "output_type": "stream",
          "name": "stdout",
          "text": [
            "apple\n",
            "Apple\n"
          ]
        }
      ]
    },
    {
      "cell_type": "code",
      "source": [
        "# add data \n",
        "dic3 = {1:\"apple\"}\n",
        "print(dic3)\n",
        "\n",
        "dic3[100] = \"orange\"\n",
        "print(dic3)"
      ],
      "metadata": {
        "id": "TCUN2IOP5mvH",
        "colab": {
          "base_uri": "https://localhost:8080/"
        },
        "outputId": "01a2b7aa-37f6-44bb-c4f5-40240e710136"
      },
      "execution_count": null,
      "outputs": [
        {
          "output_type": "stream",
          "name": "stdout",
          "text": [
            "{1: 'apple'}\n",
            "{1: 'apple', 100: 'orange'}\n"
          ]
        }
      ]
    },
    {
      "cell_type": "markdown",
      "source": [
        "### Dictionary function"
      ],
      "metadata": {
        "id": "2oAWUctSrvU8"
      }
    },
    {
      "cell_type": "code",
      "source": [
        "dic2 = {'no':1, 'userid':'banna', 'name':'Apple', 'number':'206-111-1111'}\n",
        "\n",
        "# keys() : only converts key to list \n",
        "print(dic2.keys())\n",
        "\n",
        "# values() : only converts value to list\n",
        "print(dic2.values())\n",
        "\n",
        "# get() : get value by using key\n",
        "print(dic2[\"userid\"])\n",
        "print(dic2.get(\"userid\"))\n",
        "print(dic2.get('age', 'unknown'))\n",
        "\n",
        "# in : check if key is in dictionary\n",
        "print('name' in dic2)\n",
        "print('age' in dic2)"
      ],
      "metadata": {
        "colab": {
          "base_uri": "https://localhost:8080/"
        },
        "id": "P4c0qXwwr3iZ",
        "outputId": "8035c394-3807-4c88-aaf3-277e20ee0237"
      },
      "execution_count": null,
      "outputs": [
        {
          "output_type": "stream",
          "name": "stdout",
          "text": [
            "dict_keys(['no', 'userid', 'name', 'number'])\n",
            "dict_values([1, 'banna', 'Apple', '206-111-1111'])\n",
            "banna\n",
            "banna\n",
            "unknown\n",
            "True\n",
            "False\n"
          ]
        }
      ]
    },
    {
      "cell_type": "markdown",
      "source": [
        "# Function "
      ],
      "metadata": {
        "id": "stYt2abLspJp"
      }
    },
    {
      "cell_type": "markdown",
      "source": [
        "* user define function to repetitively use "
      ],
      "metadata": {
        "id": "g1Cw4co5yWuq"
      }
    },
    {
      "cell_type": "code",
      "source": [
        "def func1():\n",
        "  print(\"This is first function I create!\")\n",
        "\n",
        "func1()"
      ],
      "metadata": {
        "colab": {
          "base_uri": "https://localhost:8080/"
        },
        "id": "lRte3HfdyfGZ",
        "outputId": "8044f6aa-1cb6-4f6e-ce03-c43c1d203015"
      },
      "execution_count": null,
      "outputs": [
        {
          "output_type": "stream",
          "name": "stdout",
          "text": [
            "This is first function I create!\n"
          ]
        }
      ]
    },
    {
      "cell_type": "code",
      "source": [
        "# contain parameter\n",
        "def func2(num):\n",
        "  print(\"Input number : %d\" %num)\n",
        "\n",
        "func2(10)\n",
        "func2(20)"
      ],
      "metadata": {
        "colab": {
          "base_uri": "https://localhost:8080/"
        },
        "id": "iGxG2c6PypnW",
        "outputId": "98ad1c42-41dc-4279-86c9-d4b187021843"
      },
      "execution_count": null,
      "outputs": [
        {
          "output_type": "stream",
          "name": "stdout",
          "text": [
            "Input number : 10\n",
            "Input number : 20\n"
          ]
        }
      ]
    },
    {
      "cell_type": "code",
      "source": [
        "# contain return value \n",
        "def func3():\n",
        "  return('🎁')\n",
        "\n",
        "func3()"
      ],
      "metadata": {
        "colab": {
          "base_uri": "https://localhost:8080/",
          "height": 36
        },
        "id": "-XDwY93Xy3TA",
        "outputId": "9ecd3086-113e-4011-e72f-6c99f393314e"
      },
      "execution_count": null,
      "outputs": [
        {
          "output_type": "execute_result",
          "data": {
            "text/plain": [
              "'🎁'"
            ],
            "application/vnd.google.colaboratory.intrinsic+json": {
              "type": "string"
            }
          },
          "metadata": {},
          "execution_count": 10
        }
      ]
    },
    {
      "cell_type": "code",
      "source": [
        "present = func3()\n",
        "present"
      ],
      "metadata": {
        "colab": {
          "base_uri": "https://localhost:8080/",
          "height": 36
        },
        "id": "N1qJvtuwzIBR",
        "outputId": "316e5ae8-00f4-49bf-af86-b9d5dd36ee15"
      },
      "execution_count": null,
      "outputs": [
        {
          "output_type": "execute_result",
          "data": {
            "text/plain": [
              "'🎁'"
            ],
            "application/vnd.google.colaboratory.intrinsic+json": {
              "type": "string"
            }
          },
          "metadata": {},
          "execution_count": 11
        }
      ]
    },
    {
      "cell_type": "code",
      "source": [
        "def func4(num1, num2):\n",
        "  return num1 + num2\n",
        "\n",
        "func4(1, 2)"
      ],
      "metadata": {
        "colab": {
          "base_uri": "https://localhost:8080/"
        },
        "id": "1C_Y7o3XzNNI",
        "outputId": "7c81f141-9988-4613-e110-126e1e2a6d9f"
      },
      "execution_count": null,
      "outputs": [
        {
          "output_type": "execute_result",
          "data": {
            "text/plain": [
              "3"
            ]
          },
          "metadata": {},
          "execution_count": 15
        }
      ]
    },
    {
      "cell_type": "code",
      "source": [
        "# default parameter\n",
        "def func5(num1 = 1, num2 = 2):\n",
        "  return num1 + num2\n",
        "\n",
        "# func4(1) # TypeError\n",
        "print(func5(num1 = 2, num2 = 2))\n",
        "print(func5(2,2))\n",
        "print(func5(2))"
      ],
      "metadata": {
        "colab": {
          "base_uri": "https://localhost:8080/"
        },
        "id": "lp-zWRh7zVJs",
        "outputId": "081b69f4-2a17-417e-9a3d-4311c3c6b812"
      },
      "execution_count": null,
      "outputs": [
        {
          "output_type": "stream",
          "name": "stdout",
          "text": [
            "4\n",
            "4\n",
            "4\n"
          ]
        }
      ]
    },
    {
      "cell_type": "code",
      "source": [
        "# parameter variability\n",
        "\n",
        "def func6(*args):\n",
        "  result = 0\n",
        "  for i in args:\n",
        "    result += i\n",
        "  return result\n",
        "\n",
        "print(func6(10))\n",
        "print(func6(1,2,3,4,5))"
      ],
      "metadata": {
        "colab": {
          "base_uri": "https://localhost:8080/"
        },
        "id": "00Bgu6L3z6yb",
        "outputId": "d031bef1-03fc-4818-8640-901eecb0bbba"
      },
      "execution_count": null,
      "outputs": [
        {
          "output_type": "stream",
          "name": "stdout",
          "text": [
            "10\n",
            "15\n"
          ]
        }
      ]
    },
    {
      "cell_type": "code",
      "source": [
        "# parameter as dictionary \n",
        "def func7(**args):\n",
        "  return args \n",
        "\n",
        "user = func7(userid=\"apple\", name=\"Apple\", age=20)\n",
        "print(user)"
      ],
      "metadata": {
        "colab": {
          "base_uri": "https://localhost:8080/"
        },
        "id": "wd8Y5sm20rzR",
        "outputId": "065ac0b9-bb72-4c89-f440-51f659bca814"
      },
      "execution_count": null,
      "outputs": [
        {
          "output_type": "stream",
          "name": "stdout",
          "text": [
            "{'userid': 'apple', 'name': 'Apple', 'age': 20}\n"
          ]
        }
      ]
    },
    {
      "cell_type": "markdown",
      "source": [
        "# Class & Object-Oriented Programming (OOP)"
      ],
      "metadata": {
        "id": "DBJ6OFCB3Hmx"
      }
    },
    {
      "cell_type": "markdown",
      "source": [
        "### create class\n",
        "```\n",
        "class name:\n",
        "  def __init__(self): # _init_ is the first thing to proceed no matter what \n",
        "    self.field1 = value1\n",
        "    self.feild2 = value2 \n",
        "    ...\n",
        "  def method1 (param1, param2, ...):\n",
        "    \n",
        "```"
      ],
      "metadata": {
        "id": "Sc7HEMe17d3b"
      }
    },
    {
      "cell_type": "code",
      "source": [
        "# class with no function\n",
        "\n",
        "class Dog:\n",
        "  pass # nothing saved "
      ],
      "metadata": {
        "id": "BxBg4J9_ANgx"
      },
      "execution_count": 1,
      "outputs": []
    },
    {
      "cell_type": "code",
      "source": [
        "def func1():\n",
        "  pass"
      ],
      "metadata": {
        "id": "6rU6w5LjATG0"
      },
      "execution_count": 2,
      "outputs": []
    },
    {
      "cell_type": "code",
      "source": [
        "# create object through class\n",
        "Rucy = Dog() #Rucy is indicating the address of Dog class\n",
        "print(Rucy, type(Rucy))\n",
        "\n",
        "Choco = Dog()\n",
        "print(Choco, type(Choco))"
      ],
      "metadata": {
        "colab": {
          "base_uri": "https://localhost:8080/"
        },
        "id": "G-0dsvkjAUrf",
        "outputId": "73aa1410-6337-4a9d-b2a0-edcfcc117dd3"
      },
      "execution_count": 3,
      "outputs": [
        {
          "output_type": "stream",
          "name": "stdout",
          "text": [
            "<__main__.Dog object at 0x7fb099385d80> <class '__main__.Dog'>\n",
            "<__main__.Dog object at 0x7fb0993875b0> <class '__main__.Dog'>\n"
          ]
        }
      ]
    },
    {
      "cell_type": "code",
      "source": [
        "# __init__\n",
        "class Dog:\n",
        "  def __init__(self):\n",
        "    print(self, \"call init\")"
      ],
      "metadata": {
        "id": "k03wPsUxA9r9"
      },
      "execution_count": 4,
      "outputs": []
    },
    {
      "cell_type": "code",
      "source": [
        "Rucy = Dog()\n",
        "print(Rucy)\n",
        "\n",
        "Choco = Dog()\n",
        "print(Choco)"
      ],
      "metadata": {
        "colab": {
          "base_uri": "https://localhost:8080/"
        },
        "id": "soYlc6gTBIK7",
        "outputId": "29f6381a-57db-4436-c7a5-81116a43a0e9"
      },
      "execution_count": 5,
      "outputs": [
        {
          "output_type": "stream",
          "name": "stdout",
          "text": [
            "<__main__.Dog object at 0x7fb099385a80> call init\n",
            "<__main__.Dog object at 0x7fb099385a80>\n",
            "<__main__.Dog object at 0x7fb0993865c0> call init\n",
            "<__main__.Dog object at 0x7fb0993865c0>\n"
          ]
        }
      ]
    },
    {
      "cell_type": "code",
      "source": [
        "class Dog:\n",
        "  def __init__(self):\n",
        "    print(self, \"call init\")\n",
        "    self.name = \"no name\"\n",
        "    self.age = 0"
      ],
      "metadata": {
        "id": "g_akH6ONBNaM"
      },
      "execution_count": 6,
      "outputs": []
    },
    {
      "cell_type": "code",
      "source": [
        "Rucy = Dog()\n",
        "print(Rucy)\n",
        "print(Rucy.name)\n",
        "print(Rucy.age)"
      ],
      "metadata": {
        "colab": {
          "base_uri": "https://localhost:8080/"
        },
        "id": "bjedB27_Bync",
        "outputId": "b18062f4-4723-4ce6-d8cb-fa02e590948d"
      },
      "execution_count": 7,
      "outputs": [
        {
          "output_type": "stream",
          "name": "stdout",
          "text": [
            "<__main__.Dog object at 0x7fb099384ac0> call init\n",
            "<__main__.Dog object at 0x7fb099384ac0>\n",
            "no name\n",
            "0\n"
          ]
        }
      ]
    },
    {
      "cell_type": "code",
      "source": [
        "Rucy.name = \"Rucy\"\n",
        "Rucy.age = 12\n",
        "print(Rucy.name)\n",
        "print(Rucy.age)"
      ],
      "metadata": {
        "colab": {
          "base_uri": "https://localhost:8080/"
        },
        "id": "OgVuK0tdB3Iu",
        "outputId": "f5355074-355e-4b69-fb02-c4209ce516e5"
      },
      "execution_count": 8,
      "outputs": [
        {
          "output_type": "stream",
          "name": "stdout",
          "text": [
            "Rucy\n",
            "12\n"
          ]
        }
      ]
    },
    {
      "cell_type": "code",
      "source": [
        "Choco = Dog()\n",
        "print(Choco.name)\n",
        "print(Choco.age)"
      ],
      "metadata": {
        "colab": {
          "base_uri": "https://localhost:8080/"
        },
        "id": "UZ_NHKJlCB6C",
        "outputId": "ecc43a71-67ab-47f4-b2ca-ddab9e49e204"
      },
      "execution_count": 10,
      "outputs": [
        {
          "output_type": "stream",
          "name": "stdout",
          "text": [
            "<__main__.Dog object at 0x7fb099386350> call init\n",
            "no name\n",
            "0\n"
          ]
        }
      ]
    },
    {
      "cell_type": "code",
      "source": [
        "class Dog:\n",
        "  def __init__(self, name, age, family=\"retriever\"):\n",
        "    self.name = name\n",
        "    self.age = age\n",
        "    self.family = family # retriever is the default setting "
      ],
      "metadata": {
        "id": "cLkDTD7GCJOF"
      },
      "execution_count": 15,
      "outputs": []
    },
    {
      "cell_type": "code",
      "source": [
        "Rucy = Dog(\"Rucy\", 12)\n",
        "print(Rucy.name)\n",
        "print(Rucy.age)\n",
        "print(Rucy.family)\n",
        "\n",
        "Choco = Dog(\"Choco\", 6, \"pomeranian\")\n",
        "print(Choco.name)\n",
        "print(Choco.age)\n",
        "print(Choco.family)"
      ],
      "metadata": {
        "colab": {
          "base_uri": "https://localhost:8080/"
        },
        "id": "nag2Y4clCN8H",
        "outputId": "69e85caa-6994-4ad3-c758-7076870d5cba"
      },
      "execution_count": 16,
      "outputs": [
        {
          "output_type": "stream",
          "name": "stdout",
          "text": [
            "Rucy\n",
            "12\n",
            "retriever\n",
            "Choco\n",
            "6\n",
            "pomeranian\n"
          ]
        }
      ]
    },
    {
      "cell_type": "code",
      "source": [
        "# define method \n",
        "class Counter:\n",
        "  def __init__(self): # the first method to proceed \n",
        "    self.num = 0\n",
        "  def increment(self):\n",
        "    self.num += 1\n",
        "  def current_value(self):\n",
        "    return self.num\n",
        "  def reset(self):\n",
        "    self.num = 0\n"
      ],
      "metadata": {
        "id": "7zI4GquzDA97"
      },
      "execution_count": 18,
      "outputs": []
    },
    {
      "cell_type": "code",
      "source": [
        "Chase = Counter()\n",
        "print(Chase.num)\n",
        "\n",
        "Chase.increment()\n",
        "Chase.increment()\n",
        "print(Chase.num)\n",
        "\n",
        "print(Chase.current_value())\n",
        "\n",
        "print(\"Waiting line : %d\" %Chase.current_value())\n",
        "\n",
        "Chase.reset()\n",
        "print(\"New Waiting line : %d\" %Chase.current_value())"
      ],
      "metadata": {
        "colab": {
          "base_uri": "https://localhost:8080/"
        },
        "id": "6sAzfIwFDcz7",
        "outputId": "20a720ed-857c-4f7d-e0b7-cc071be6bf0c"
      },
      "execution_count": 26,
      "outputs": [
        {
          "output_type": "stream",
          "name": "stdout",
          "text": [
            "0\n",
            "2\n",
            "2\n",
            "Waiting line : 2\n",
            "New Waiting line : 0\n"
          ]
        }
      ]
    },
    {
      "cell_type": "code",
      "source": [
        "# staticmethod : do not need to create object \n",
        "\n",
        "class Math:\n",
        "  @staticmethod \n",
        "  def add(x,y):\n",
        "    return x+y\n",
        "  def multiply(x,y):\n",
        "    return x*y\n"
      ],
      "metadata": {
        "id": "l3cUdOTVDkGE"
      },
      "execution_count": 43,
      "outputs": []
    },
    {
      "cell_type": "code",
      "source": [
        "result1 = Math.add(10, 5)\n",
        "result2 = Math.multiply(10, 5)\n",
        "result1, result2"
      ],
      "metadata": {
        "colab": {
          "base_uri": "https://localhost:8080/"
        },
        "id": "vTZBS8JhExpU",
        "outputId": "2c25a278-8116-4290-9206-58479bfd6ccd"
      },
      "execution_count": 29,
      "outputs": [
        {
          "output_type": "execute_result",
          "data": {
            "text/plain": [
              "(15, 50)"
            ]
          },
          "metadata": {},
          "execution_count": 29
        }
      ]
    },
    {
      "cell_type": "markdown",
      "source": [
        "### Inherit the class \n",
        "\n",
        "* inherit the class \n",
        "* can modify inherited class \n",
        "* call inheriting class - parent, super, base\n",
        "* call the inherited class - child, sub "
      ],
      "metadata": {
        "id": "u_5XOkkyFAv4"
      }
    },
    {
      "cell_type": "code",
      "source": [
        "class Animal:\n",
        "  def __init__(self, name, age):\n",
        "    self.name = name\n",
        "    self.age = age\n",
        "\n",
        "  def eat(self, food):\n",
        "    print(\"{} is eating {}\".format(self.name, food))\n",
        "  \n",
        "  def sleep(self, hour):\n",
        "    print(\"{} is sleep {} hours\".format(self.name, hour))"
      ],
      "metadata": {
        "id": "KD7M7XiHFMXW"
      },
      "execution_count": 30,
      "outputs": []
    },
    {
      "cell_type": "code",
      "source": [
        "cat = Animal(\"Bella\", 3)\n",
        "cat.eat('tuna')\n",
        "cat.sleep('10')"
      ],
      "metadata": {
        "colab": {
          "base_uri": "https://localhost:8080/"
        },
        "id": "Z-SOxrz6FzvY",
        "outputId": "39f9cecc-fbb5-475f-de40-7bf02fb852c4"
      },
      "execution_count": 31,
      "outputs": [
        {
          "output_type": "stream",
          "name": "stdout",
          "text": [
            "Bella is eating tuna\n",
            "Bella is sleep 10 hours\n"
          ]
        }
      ]
    },
    {
      "cell_type": "code",
      "source": [
        "# inherit - class child_name (parent_name)\n",
        "\n",
        "class Cat(Animal):\n",
        "  pass "
      ],
      "metadata": {
        "id": "HjhFfBfrGSIj"
      },
      "execution_count": 32,
      "outputs": []
    },
    {
      "cell_type": "code",
      "source": [
        "Bella = Cat(\"Bella\", 6)\n",
        "Bella.eat(\"tuna\")\n",
        "Bella.sleep(10)"
      ],
      "metadata": {
        "colab": {
          "base_uri": "https://localhost:8080/"
        },
        "id": "PaU3nxwTGeTp",
        "outputId": "5cbc1f48-cd22-4b5a-8801-5a8ec0957440"
      },
      "execution_count": 34,
      "outputs": [
        {
          "output_type": "stream",
          "name": "stdout",
          "text": [
            "Bella is eating tuna\n",
            "Bella is sleep 10 hours\n"
          ]
        }
      ]
    },
    {
      "cell_type": "code",
      "source": [
        "# overwrite\n",
        "\n",
        "class Cat(Animal):\n",
        "  def eat(self, food, count):\n",
        "    print('{} is eatng {} of {}.'.format(self.name, food, count))\n"
      ],
      "metadata": {
        "id": "f3Gc6j5zGlqT"
      },
      "execution_count": 36,
      "outputs": []
    },
    {
      "cell_type": "code",
      "source": [
        "Bella = Cat(\"Bella\", 6)\n",
        "Bella.eat(\"tuna\", 3)\n",
        "Bella.sleep(10)"
      ],
      "metadata": {
        "colab": {
          "base_uri": "https://localhost:8080/"
        },
        "id": "7vYmQ48rGqwA",
        "outputId": "57832c58-7bc3-4636-bb32-6d3ae785b00d"
      },
      "execution_count": 37,
      "outputs": [
        {
          "output_type": "stream",
          "name": "stdout",
          "text": [
            "Bella is eatng tuna of 3.\n",
            "Bella is sleep 10 hours\n"
          ]
        }
      ]
    },
    {
      "cell_type": "code",
      "source": [
        "# multiple inheritance - ** parent class must have same __init__ paramenter\n",
        "\n",
        "class Human:\n",
        "  def __init__ (self, name, age):\n",
        "    self.name = name\n",
        "    self.age = age\n",
        "\n",
        "  def study(self, hour):\n",
        "    print(\"{} is studying {} hours\".format(self.name, hour))"
      ],
      "metadata": {
        "id": "8yBSxbpRHVui"
      },
      "execution_count": 41,
      "outputs": []
    },
    {
      "cell_type": "code",
      "source": [
        "class Kim(Animal, Human):\n",
        "   pass "
      ],
      "metadata": {
        "id": "Pz6QcgVdHpF4"
      },
      "execution_count": 39,
      "outputs": []
    },
    {
      "cell_type": "code",
      "source": [
        "kim = Kim(\"Apple\", 20)\n",
        "kim.eat(\"rice\")\n",
        "kim.study(4)"
      ],
      "metadata": {
        "colab": {
          "base_uri": "https://localhost:8080/"
        },
        "id": "4kSgUmTrIADV",
        "outputId": "392d9aa4-4f09-4c42-8930-bc1d2084e7df"
      },
      "execution_count": 40,
      "outputs": [
        {
          "output_type": "stream",
          "name": "stdout",
          "text": [
            "Apple is eating rice\n",
            "Apple is studying 4 hours\n"
          ]
        }
      ]
    },
    {
      "cell_type": "markdown",
      "source": [
        "# Module \n"
      ],
      "metadata": {
        "id": "v2ZU-oBNIEu-"
      }
    },
    {
      "cell_type": "markdown",
      "source": [
        "* bring a module with all functions\n",
        "``` \n",
        "import module_name\n",
        "# or\n",
        "from module_name import *\n",
        "```\n",
        "\n",
        "* bring a module with a specific function \n",
        "```\n",
        "from module_name  import function_name\n",
        "```\n",
        "\n",
        "* give nickname to module \n",
        "```\n",
        "import module_name as module_nickname \n",
        "```\n",
        "\n",
        "* how to use \n",
        "```\n",
        "module_name.function_name()\n",
        "# or\n",
        "module_nickname.function_name()\n",
        "```"
      ],
      "metadata": {
        "id": "_EyS_S44I2Gb"
      }
    },
    {
      "cell_type": "markdown",
      "source": [
        "# Try-Except "
      ],
      "metadata": {
        "id": "0W2b3FfsJKzO"
      }
    },
    {
      "cell_type": "markdown",
      "source": [
        "```\n",
        "try:\n",
        "  sentence expected to be error\n",
        "  ...\n",
        "  ...\n",
        "except typeerror1:\n",
        "  if this error happens, sentence trying to proceed \n",
        "  ...\n",
        "  ...\n",
        "except typeeroor2:\n",
        "  if this error happens, sentence trying to proceed\n",
        "  ...\n",
        "  ...\n",
        "else:\n",
        "  when no error occurs \n",
        "  ...\n",
        "finally:\n",
        "  no matter what, proceeds \n",
        "```"
      ],
      "metadata": {
        "id": "DHQaXWW_KR0P"
      }
    },
    {
      "cell_type": "code",
      "source": [
        "print(10/2)\n",
        "print(5/0)  # ZeroDivisionError: division by zero\n",
        "print(4/2)"
      ],
      "metadata": {
        "colab": {
          "base_uri": "https://localhost:8080/",
          "height": 217
        },
        "id": "R_2VmMykK9cv",
        "outputId": "38dd30dc-28f4-4b1a-98e0-c5b1acaa6017"
      },
      "execution_count": 45,
      "outputs": [
        {
          "output_type": "stream",
          "name": "stdout",
          "text": [
            "5.0\n"
          ]
        },
        {
          "output_type": "error",
          "ename": "ZeroDivisionError",
          "evalue": "ignored",
          "traceback": [
            "\u001b[0;31m---------------------------------------------------------------------------\u001b[0m",
            "\u001b[0;31mZeroDivisionError\u001b[0m                         Traceback (most recent call last)",
            "\u001b[0;32m<ipython-input-45-32f30cfde485>\u001b[0m in \u001b[0;36m<cell line: 2>\u001b[0;34m()\u001b[0m\n\u001b[1;32m      1\u001b[0m \u001b[0mprint\u001b[0m\u001b[0;34m(\u001b[0m\u001b[0;36m10\u001b[0m\u001b[0;34m/\u001b[0m\u001b[0;36m2\u001b[0m\u001b[0;34m)\u001b[0m\u001b[0;34m\u001b[0m\u001b[0;34m\u001b[0m\u001b[0m\n\u001b[0;32m----> 2\u001b[0;31m \u001b[0mprint\u001b[0m\u001b[0;34m(\u001b[0m\u001b[0;36m5\u001b[0m\u001b[0;34m/\u001b[0m\u001b[0;36m0\u001b[0m\u001b[0;34m)\u001b[0m  \u001b[0;31m# ZeroDivisionError: division by zero\u001b[0m\u001b[0;34m\u001b[0m\u001b[0;34m\u001b[0m\u001b[0m\n\u001b[0m\u001b[1;32m      3\u001b[0m \u001b[0mprint\u001b[0m\u001b[0;34m(\u001b[0m\u001b[0;36m4\u001b[0m\u001b[0;34m/\u001b[0m\u001b[0;36m2\u001b[0m\u001b[0;34m)\u001b[0m\u001b[0;34m\u001b[0m\u001b[0;34m\u001b[0m\u001b[0m\n",
            "\u001b[0;31mZeroDivisionError\u001b[0m: division by zero"
          ]
        }
      ]
    },
    {
      "cell_type": "code",
      "source": [
        "try:\n",
        "  print(10/2)\n",
        "  print(5/0)  # ZeroDivisionError: division by zero\n",
        "  print(4/2)\n",
        "except ZeroDivisionError:\n",
        "  print('Cannot divide it by zero')\n",
        "\n",
        "print('program ends')"
      ],
      "metadata": {
        "colab": {
          "base_uri": "https://localhost:8080/"
        },
        "id": "985pXXEVLAuf",
        "outputId": "09d439da-99c1-4db5-e3ad-b5dfdd565c93"
      },
      "execution_count": 47,
      "outputs": [
        {
          "output_type": "stream",
          "name": "stdout",
          "text": [
            "5.0\n",
            "Cannot divide it by zero\n",
            "program ends\n"
          ]
        }
      ]
    },
    {
      "cell_type": "code",
      "source": [
        "data = [10, 20, 30]\n",
        "print(data[3])  # IndexError: list index out of range"
      ],
      "metadata": {
        "colab": {
          "base_uri": "https://localhost:8080/",
          "height": 182
        },
        "id": "0mc9iGBsLNgh",
        "outputId": "7b697c9e-285a-4867-e406-ad3e0ae8e6b4"
      },
      "execution_count": 48,
      "outputs": [
        {
          "output_type": "error",
          "ename": "IndexError",
          "evalue": "ignored",
          "traceback": [
            "\u001b[0;31m---------------------------------------------------------------------------\u001b[0m",
            "\u001b[0;31mIndexError\u001b[0m                                Traceback (most recent call last)",
            "\u001b[0;32m<ipython-input-48-327616b9023c>\u001b[0m in \u001b[0;36m<cell line: 2>\u001b[0;34m()\u001b[0m\n\u001b[1;32m      1\u001b[0m \u001b[0mdata\u001b[0m \u001b[0;34m=\u001b[0m \u001b[0;34m[\u001b[0m\u001b[0;36m10\u001b[0m\u001b[0;34m,\u001b[0m \u001b[0;36m20\u001b[0m\u001b[0;34m,\u001b[0m \u001b[0;36m30\u001b[0m\u001b[0;34m]\u001b[0m\u001b[0;34m\u001b[0m\u001b[0;34m\u001b[0m\u001b[0m\n\u001b[0;32m----> 2\u001b[0;31m \u001b[0mprint\u001b[0m\u001b[0;34m(\u001b[0m\u001b[0mdata\u001b[0m\u001b[0;34m[\u001b[0m\u001b[0;36m3\u001b[0m\u001b[0;34m]\u001b[0m\u001b[0;34m)\u001b[0m  \u001b[0;31m# IndexError: list index out of range\u001b[0m\u001b[0;34m\u001b[0m\u001b[0;34m\u001b[0m\u001b[0m\n\u001b[0m",
            "\u001b[0;31mIndexError\u001b[0m: list index out of range"
          ]
        }
      ]
    },
    {
      "cell_type": "code",
      "source": [
        "data = [10, 20, 30]\n",
        "try:\n",
        "  print(data[2])\n",
        "  print(data[3])\n",
        "  print(data[0])\n",
        "except ZeroDivisionError:\n",
        "  print('Cannot divide it by zero')\n",
        "except:  # all kinds of errors \n",
        "  print('Error occurred')\n",
        "\n",
        "print('Program ends')"
      ],
      "metadata": {
        "colab": {
          "base_uri": "https://localhost:8080/"
        },
        "id": "LwMLa6LWLSC8",
        "outputId": "ef3af23c-49b9-4623-eb29-b233e3762abd"
      },
      "execution_count": 49,
      "outputs": [
        {
          "output_type": "stream",
          "name": "stdout",
          "text": [
            "30\n",
            "Error occurred\n",
            "Program ends\n"
          ]
        }
      ]
    },
    {
      "cell_type": "code",
      "source": [
        "data = [10, 20, 30]\n",
        "try:\n",
        "  print(data[2])\n",
        "  print(data[3])\n",
        "  print(data[0])\n",
        "except ZeroDivisionError:\n",
        "  print('Cannot divide iy by zero')\n",
        "#except:  \n",
        "#  print('Error occurred')   >> Order mismatch \n",
        "except IndexError:\n",
        "  print('Index is not correct')\n",
        "except:  \n",
        "  print('Error occurred')\n",
        "finally:\n",
        "  print('Program ends')"
      ],
      "metadata": {
        "colab": {
          "base_uri": "https://localhost:8080/"
        },
        "id": "oecORQ1cLhSL",
        "outputId": "26f5ab27-46c1-4fb1-849b-769e8e3c13e6"
      },
      "execution_count": 52,
      "outputs": [
        {
          "output_type": "stream",
          "name": "stdout",
          "text": [
            "30\n",
            "Index is not correct\n",
            "Program ends\n"
          ]
        }
      ]
    },
    {
      "cell_type": "code",
      "source": [],
      "metadata": {
        "id": "xdt_-iEWL04x"
      },
      "execution_count": null,
      "outputs": []
    }
  ]
}